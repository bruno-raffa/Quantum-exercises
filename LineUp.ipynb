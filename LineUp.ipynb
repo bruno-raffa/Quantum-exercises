{
  "nbformat": 4,
  "nbformat_minor": 0,
  "metadata": {
    "colab": {
      "name": "LineUp.ipynb",
      "provenance": [],
      "collapsed_sections": [],
      "authorship_tag": "ABX9TyOfkk/6mk7Ct44bLT2J4Wq1",
      "include_colab_link": true
    },
    "kernelspec": {
      "name": "python3",
      "display_name": "Python 3"
    },
    "language_info": {
      "name": "python"
    }
  },
  "cells": [
    {
      "cell_type": "markdown",
      "metadata": {
        "id": "view-in-github",
        "colab_type": "text"
      },
      "source": [
        "<a href=\"https://colab.research.google.com/github/bruno-raffa/Quantum-exercises/blob/main/LineUp.ipynb\" target=\"_parent\"><img src=\"https://colab.research.google.com/assets/colab-badge.svg\" alt=\"Open In Colab\"/></a>"
      ]
    },
    {
      "cell_type": "markdown",
      "source": [
        "### Line-up Optimization\n",
        "The aim of this demo, developed by Aitzol Iturrospe (www.spdtek.com), is to optimize the initial line-up of Liverpool FC. The goal is to select players maximizing the sum of their ratings. The eleven football players are divided into several positions in accordance with the team formation. In addition to one goalkeeper (GK), the players are divided into three main positions, defenders (D), midfielders (M), and forward/strikers (FW). Each major position can be subdivided into several more specific positions, such as\n",
        "\n",
        "\n",
        "\n",
        "*   central defender (DC)\n",
        "*   left wing defender (DL)\n",
        "*   right wing defender (DR)\n",
        "*   defensive midfielder (DM)\n",
        "*   central midfielder (CM)\n",
        "*   attack midfielder (AM)\n",
        "*   right wing forward (FWR)\n",
        "*   left wing forward (FWL) or\n",
        "forward/striker (FW)\n",
        "\n",
        "\n",
        "The problem is stated as a constrained quadratic model **(CQM)** and it is solved in a D-Wave Leap’s Hybrid Solver."
      ],
      "metadata": {
        "id": "VGHfMTtvlbvL"
      }
    },
    {
      "cell_type": "code",
      "execution_count": null,
      "metadata": {
        "id": "CXmj9NXd2Y8Y"
      },
      "outputs": [],
      "source": [
        "! pip install dwave-ocean-sdk\n",
        "! dwave setup"
      ]
    },
    {
      "cell_type": "code",
      "source": [
        "import matplotlib\n",
        "import numpy as np\n",
        "from dimod import ConstrainedQuadraticModel, BinaryQuadraticModel, QuadraticModel\n",
        "from dwave.system import LeapHybridCQMSampler\n",
        "import pandas as pd\n",
        "import urllib.request\n",
        "\n",
        "try:\n",
        "    import matplotlib.pyplot as plt\n",
        "except ImportError:\n",
        "    matplotlib.use(\"agg\")\n",
        "    import matplotlib.pyplot as plt\n",
        "\n"
      ],
      "metadata": {
        "id": "fIb34YxS2mj8"
      },
      "execution_count": null,
      "outputs": []
    },
    {
      "cell_type": "code",
      "source": [
        "# Read players rating from CSV\n",
        "filename = 'https://raw.githubusercontent.com/dwave-examples/Line-up-optimization/master/players.csv'\n",
        "column_names = [\"Variable\", \"Player\", \"Position\", \"Rating\"]\n",
        "players_df = pd.read_csv(filename, names=column_names)\n",
        "ratings = players_df['Rating'].tolist()"
      ],
      "metadata": {
        "id": "7sAR6PXG2mmb"
      },
      "execution_count": null,
      "outputs": []
    },
    {
      "cell_type": "code",
      "source": [
        "robertson = [7,11,16]\n",
        "jota = [27,32,34,37,41]\n",
        "\n",
        "ratings_robertson = [e for i, e in enumerate(ratings) if i in robertson]\n",
        "ratings_jota = [e for i, e in enumerate(ratings) if i in jota]"
      ],
      "metadata": {
        "id": "Uzr7pFT4mNqr"
      },
      "execution_count": null,
      "outputs": []
    },
    {
      "cell_type": "code",
      "source": [
        "n_var = 43\n",
        "print(\"\\nBuilding a CQM for {} items.\".format(str(n_var)))\n",
        "\n",
        "cqm = ConstrainedQuadraticModel()\n",
        "obj = BinaryQuadraticModel(vartype='BINARY')\n",
        "\n",
        "#Constraints to setup a proper team\n",
        "constraint1 = QuadraticModel()\n",
        "constraint2 = QuadraticModel()\n",
        "constraint3 = QuadraticModel()\n",
        "constraint4 = QuadraticModel()\n",
        "constraint6 = QuadraticModel()\n",
        "constraint7 = QuadraticModel()\n",
        "constraint8 = QuadraticModel()\n",
        "constraint9 = QuadraticModel()\n",
        "\n",
        "#Constraints to avoid player in multiple roles\n",
        "constraint10 = QuadraticModel()\n",
        "constraint11 = QuadraticModel()\n",
        "\n",
        "\n",
        "for i in range(n_var):\n",
        "    # Objective is to maximize the total costs\n",
        "    obj.add_variable(i)\n",
        "    obj.set_linear(i, -ratings[i])\n",
        "\n",
        "    # Constraint 1\n",
        "    constraint1.add_variable('BINARY', i)\n",
        "    constraint1.set_linear(i, 1)\n",
        "\n",
        "\n",
        "# Constraint 2\n",
        "for i in range(0,2):\n",
        "  constraint2.add_variable('BINARY', i)\n",
        "  constraint2.set_linear(i, 1)\n",
        "\n",
        "# Constraint 3\n",
        "for i in range(2,7):\n",
        "  constraint3.add_variable('BINARY', i)\n",
        "  constraint3.set_linear(i, 1)\n",
        "\n",
        "# Constraint 4\n",
        "for i in range(7,8):\n",
        "  constraint4.add_variable('BINARY', i)\n",
        "  constraint4.set_linear(i, 1)\n",
        "\n",
        "# Constraint 5\n",
        "for i in range(8,11):\n",
        "  constraint5.add_variable('BINARY', i)\n",
        "  constraint5.set_linear(i, 1)\n",
        "\n",
        "# Constraint 6\n",
        "for i in range(38,42):\n",
        "  constraint6.add_variable('BINARY', i)\n",
        "  constraint6.set_linear(i, 1)\n",
        "\n",
        "# Constraint 7\n",
        "for i in range(16,28):\n",
        "  constraint7.add_variable('BINARY', i)\n",
        "  constraint7.set_linear(i, 1)\n",
        "\n",
        "\n",
        "# Constraint 8\n",
        "for i in range(33,36):\n",
        "  constraint8.add_variable('BINARY', i)\n",
        "  constraint8.set_linear(i, 1)\n",
        "\n",
        "# Constraint 9\n",
        "for i in range(36,38):\n",
        "  constraint9.add_variable('BINARY', i)\n",
        "  constraint9.set_linear(i, 1)\n",
        "\n",
        "# Constraint single position for each player\n",
        "for i in range(n_var):\n",
        "  if i in robertson:\n",
        "    constraint10.add_variable('BINARY', i)\n",
        "    constraint10.set_linear(i, 1)\n",
        "  if i in jota:\n",
        "    constraint11.add_variable('BINARY', i)\n",
        "    constraint11.set_linear(i, 1)\n",
        "\n",
        "cqm.set_objective(obj)\n",
        "\n",
        "cqm.add_constraint(constraint1 == 11, label='11_players') \n",
        "cqm.add_constraint(constraint2 == 1, label='1 Goalkeeper') \n",
        "cqm.add_constraint(constraint3 == 2, label='2 Defender Central') \n",
        "cqm.add_constraint(constraint4 == 1, label='1 Defender Left') \n",
        "cqm.add_constraint(constraint5 == 1, label='1 Defender Righ') \n",
        "cqm.add_constraint(constraint6 == 1, label='1 Forward Striker') \n",
        "cqm.add_constraint(constraint7 == 3, label='3 Midfielder') \n",
        "cqm.add_constraint(constraint8 == 1, label='1 Forward Left') \n",
        "cqm.add_constraint(constraint9 == 1, label='1 Forward Right') \n",
        "cqm.add_constraint(constraint10 == 1, label='Robertson')\n",
        "cqm.add_constraint(constraint11 == 1, label='Jota') "
      ],
      "metadata": {
        "colab": {
          "base_uri": "https://localhost:8080/",
          "height": 70
        },
        "id": "O1HFsVv89682",
        "outputId": "44127b34-1892-48ba-fa06-9abb7f56d670"
      },
      "execution_count": null,
      "outputs": [
        {
          "output_type": "stream",
          "name": "stdout",
          "text": [
            "\n",
            "Building a CQM for 43 items.\n"
          ]
        },
        {
          "output_type": "execute_result",
          "data": {
            "text/plain": [
              "'Jota'"
            ],
            "application/vnd.google.colaboratory.intrinsic+json": {
              "type": "string"
            }
          },
          "metadata": {},
          "execution_count": 203
        }
      ]
    },
    {
      "cell_type": "code",
      "source": [
        "sampler = LeapHybridCQMSampler()\n",
        "print(\"Submitting CQM to solver {}.\".format(sampler.solver.name))\n",
        "sampleset = sampler.sample_cqm(cqm, label='Example - Lineup')"
      ],
      "metadata": {
        "colab": {
          "base_uri": "https://localhost:8080/"
        },
        "id": "0Kzowv9T_TM4",
        "outputId": "168117a9-d334-4013-b659-18a58a20cc40"
      },
      "execution_count": null,
      "outputs": [
        {
          "output_type": "stream",
          "name": "stdout",
          "text": [
            "Submitting CQM to solver hybrid_constrained_quadratic_model_version1.\n"
          ]
        }
      ]
    },
    {
      "cell_type": "code",
      "source": [
        "feasible_sampleset = sampleset.filter(lambda row: row.is_feasible)\n",
        "if not len(feasible_sampleset):\n",
        "    raise ValueError(\"No feasible solution found\")\n",
        "best = feasible_sampleset.first\n",
        "selected_item_indices = [key for key, val in best.sample.items() if val==1.0]\n",
        "selected_item_indices"
      ],
      "metadata": {
        "colab": {
          "base_uri": "https://localhost:8080/"
        },
        "id": "NEY1VWD9_TPk",
        "outputId": "30b41eba-b8b5-42c9-9ae9-60b535f6cb6c"
      },
      "execution_count": null,
      "outputs": [
        {
          "output_type": "execute_result",
          "data": {
            "text/plain": [
              "[0, 5, 6, 7, 10, 17, 20, 27, 33, 36, 38]"
            ]
          },
          "metadata": {},
          "execution_count": 205
        }
      ]
    },
    {
      "cell_type": "code",
      "source": [
        "# Print results for best line-up\n",
        "lineup_df = pd.DataFrame(best.sample.items())\n",
        "lineup_df.columns = ['Variable', 'Selected']\n",
        "lineup_df = lineup_df[(lineup_df['Selected'] == 1)]\n",
        "result = players_df.filter(items = lineup_df.Variable.tolist(), axis=0).drop('Variable', axis=1)\n",
        "(result)"
      ],
      "metadata": {
        "colab": {
          "base_uri": "https://localhost:8080/",
          "height": 394
        },
        "id": "dk49KxBr_TSQ",
        "outputId": "8279d86c-2f14-4c41-bc3c-b0e4a41900e3"
      },
      "execution_count": null,
      "outputs": [
        {
          "output_type": "execute_result",
          "data": {
            "text/plain": [
              "       Player Position  Rating\n",
              "0     Alisson       GK    6.81\n",
              "5    Phillips       DC    7.24\n",
              "6     Fabinho       DC    7.11\n",
              "7   Robertson       DL    6.85\n",
              "10     Milner       DR    8.15\n",
              "17   Williams       CM    7.77\n",
              "20     Thiago       CM    7.38\n",
              "27       Jota       CM    9.39\n",
              "33       Mane      FWL    7.56\n",
              "36      Salah      FWR    7.42\n",
              "38    Firmino       FW    6.99"
            ],
            "text/html": [
              "\n",
              "  <div id=\"df-85b1225e-6de2-4c3c-9033-daec95816644\">\n",
              "    <div class=\"colab-df-container\">\n",
              "      <div>\n",
              "<style scoped>\n",
              "    .dataframe tbody tr th:only-of-type {\n",
              "        vertical-align: middle;\n",
              "    }\n",
              "\n",
              "    .dataframe tbody tr th {\n",
              "        vertical-align: top;\n",
              "    }\n",
              "\n",
              "    .dataframe thead th {\n",
              "        text-align: right;\n",
              "    }\n",
              "</style>\n",
              "<table border=\"1\" class=\"dataframe\">\n",
              "  <thead>\n",
              "    <tr style=\"text-align: right;\">\n",
              "      <th></th>\n",
              "      <th>Player</th>\n",
              "      <th>Position</th>\n",
              "      <th>Rating</th>\n",
              "    </tr>\n",
              "  </thead>\n",
              "  <tbody>\n",
              "    <tr>\n",
              "      <th>0</th>\n",
              "      <td>Alisson</td>\n",
              "      <td>GK</td>\n",
              "      <td>6.81</td>\n",
              "    </tr>\n",
              "    <tr>\n",
              "      <th>5</th>\n",
              "      <td>Phillips</td>\n",
              "      <td>DC</td>\n",
              "      <td>7.24</td>\n",
              "    </tr>\n",
              "    <tr>\n",
              "      <th>6</th>\n",
              "      <td>Fabinho</td>\n",
              "      <td>DC</td>\n",
              "      <td>7.11</td>\n",
              "    </tr>\n",
              "    <tr>\n",
              "      <th>7</th>\n",
              "      <td>Robertson</td>\n",
              "      <td>DL</td>\n",
              "      <td>6.85</td>\n",
              "    </tr>\n",
              "    <tr>\n",
              "      <th>10</th>\n",
              "      <td>Milner</td>\n",
              "      <td>DR</td>\n",
              "      <td>8.15</td>\n",
              "    </tr>\n",
              "    <tr>\n",
              "      <th>17</th>\n",
              "      <td>Williams</td>\n",
              "      <td>CM</td>\n",
              "      <td>7.77</td>\n",
              "    </tr>\n",
              "    <tr>\n",
              "      <th>20</th>\n",
              "      <td>Thiago</td>\n",
              "      <td>CM</td>\n",
              "      <td>7.38</td>\n",
              "    </tr>\n",
              "    <tr>\n",
              "      <th>27</th>\n",
              "      <td>Jota</td>\n",
              "      <td>CM</td>\n",
              "      <td>9.39</td>\n",
              "    </tr>\n",
              "    <tr>\n",
              "      <th>33</th>\n",
              "      <td>Mane</td>\n",
              "      <td>FWL</td>\n",
              "      <td>7.56</td>\n",
              "    </tr>\n",
              "    <tr>\n",
              "      <th>36</th>\n",
              "      <td>Salah</td>\n",
              "      <td>FWR</td>\n",
              "      <td>7.42</td>\n",
              "    </tr>\n",
              "    <tr>\n",
              "      <th>38</th>\n",
              "      <td>Firmino</td>\n",
              "      <td>FW</td>\n",
              "      <td>6.99</td>\n",
              "    </tr>\n",
              "  </tbody>\n",
              "</table>\n",
              "</div>\n",
              "      <button class=\"colab-df-convert\" onclick=\"convertToInteractive('df-85b1225e-6de2-4c3c-9033-daec95816644')\"\n",
              "              title=\"Convert this dataframe to an interactive table.\"\n",
              "              style=\"display:none;\">\n",
              "        \n",
              "  <svg xmlns=\"http://www.w3.org/2000/svg\" height=\"24px\"viewBox=\"0 0 24 24\"\n",
              "       width=\"24px\">\n",
              "    <path d=\"M0 0h24v24H0V0z\" fill=\"none\"/>\n",
              "    <path d=\"M18.56 5.44l.94 2.06.94-2.06 2.06-.94-2.06-.94-.94-2.06-.94 2.06-2.06.94zm-11 1L8.5 8.5l.94-2.06 2.06-.94-2.06-.94L8.5 2.5l-.94 2.06-2.06.94zm10 10l.94 2.06.94-2.06 2.06-.94-2.06-.94-.94-2.06-.94 2.06-2.06.94z\"/><path d=\"M17.41 7.96l-1.37-1.37c-.4-.4-.92-.59-1.43-.59-.52 0-1.04.2-1.43.59L10.3 9.45l-7.72 7.72c-.78.78-.78 2.05 0 2.83L4 21.41c.39.39.9.59 1.41.59.51 0 1.02-.2 1.41-.59l7.78-7.78 2.81-2.81c.8-.78.8-2.07 0-2.86zM5.41 20L4 18.59l7.72-7.72 1.47 1.35L5.41 20z\"/>\n",
              "  </svg>\n",
              "      </button>\n",
              "      \n",
              "  <style>\n",
              "    .colab-df-container {\n",
              "      display:flex;\n",
              "      flex-wrap:wrap;\n",
              "      gap: 12px;\n",
              "    }\n",
              "\n",
              "    .colab-df-convert {\n",
              "      background-color: #E8F0FE;\n",
              "      border: none;\n",
              "      border-radius: 50%;\n",
              "      cursor: pointer;\n",
              "      display: none;\n",
              "      fill: #1967D2;\n",
              "      height: 32px;\n",
              "      padding: 0 0 0 0;\n",
              "      width: 32px;\n",
              "    }\n",
              "\n",
              "    .colab-df-convert:hover {\n",
              "      background-color: #E2EBFA;\n",
              "      box-shadow: 0px 1px 2px rgba(60, 64, 67, 0.3), 0px 1px 3px 1px rgba(60, 64, 67, 0.15);\n",
              "      fill: #174EA6;\n",
              "    }\n",
              "\n",
              "    [theme=dark] .colab-df-convert {\n",
              "      background-color: #3B4455;\n",
              "      fill: #D2E3FC;\n",
              "    }\n",
              "\n",
              "    [theme=dark] .colab-df-convert:hover {\n",
              "      background-color: #434B5C;\n",
              "      box-shadow: 0px 1px 3px 1px rgba(0, 0, 0, 0.15);\n",
              "      filter: drop-shadow(0px 1px 2px rgba(0, 0, 0, 0.3));\n",
              "      fill: #FFFFFF;\n",
              "    }\n",
              "  </style>\n",
              "\n",
              "      <script>\n",
              "        const buttonEl =\n",
              "          document.querySelector('#df-85b1225e-6de2-4c3c-9033-daec95816644 button.colab-df-convert');\n",
              "        buttonEl.style.display =\n",
              "          google.colab.kernel.accessAllowed ? 'block' : 'none';\n",
              "\n",
              "        async function convertToInteractive(key) {\n",
              "          const element = document.querySelector('#df-85b1225e-6de2-4c3c-9033-daec95816644');\n",
              "          const dataTable =\n",
              "            await google.colab.kernel.invokeFunction('convertToInteractive',\n",
              "                                                     [key], {});\n",
              "          if (!dataTable) return;\n",
              "\n",
              "          const docLinkHtml = 'Like what you see? Visit the ' +\n",
              "            '<a target=\"_blank\" href=https://colab.research.google.com/notebooks/data_table.ipynb>data table notebook</a>'\n",
              "            + ' to learn more about interactive tables.';\n",
              "          element.innerHTML = '';\n",
              "          dataTable['output_type'] = 'display_data';\n",
              "          await google.colab.output.renderOutput(dataTable, element);\n",
              "          const docLink = document.createElement('div');\n",
              "          docLink.innerHTML = docLinkHtml;\n",
              "          element.appendChild(docLink);\n",
              "        }\n",
              "      </script>\n",
              "    </div>\n",
              "  </div>\n",
              "  "
            ]
          },
          "metadata": {},
          "execution_count": 206
        }
      ]
    },
    {
      "cell_type": "code",
      "source": [
        "print(result['Rating'].sum())"
      ],
      "metadata": {
        "colab": {
          "base_uri": "https://localhost:8080/"
        },
        "id": "OH1A2W6QDjAe",
        "outputId": "3e20c57f-4732-4686-894c-6d8a47489efb"
      },
      "execution_count": null,
      "outputs": [
        {
          "output_type": "stream",
          "name": "stdout",
          "text": [
            "82.67\n"
          ]
        }
      ]
    }
  ]
}