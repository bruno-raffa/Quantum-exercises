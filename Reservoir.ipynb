{
  "nbformat": 4,
  "nbformat_minor": 0,
  "metadata": {
    "colab": {
      "name": "Reservoir",
      "provenance": [],
      "collapsed_sections": [],
      "authorship_tag": "ABX9TyPcEy/yavHMIOadUpKnvA4y"
    },
    "kernelspec": {
      "name": "python3",
      "display_name": "Python 3"
    },
    "language_info": {
      "name": "python"
    }
  },
  "cells": [
    {
      "cell_type": "markdown",
      "source": [
        "This exercise deals with the D-wave example of a \"Reservoir Management\". Here a problem's description from D-Wave:  \n",
        "\n",
        "Water reservoir levels must be carefully controlled to satisfy consumer demand while maintaining minimum water levels. To satisfy this demand and maintain at least a minimum level of water in the reservoir, pumps can be operated to provide water flow into the reservoir. To operate these pumps there is a cost, and we would like to choose which pumps to use throughout the day in order to minimize cost.\n",
        "In this demo scenario, we have seven pumps that can be operated on 1-hour intervals throughout a 24-hour day.\n",
        "\n",
        "\n",
        "The challenge is coped on D-wave using a BQM. In this notebook instead the problem **was solved using a CQM**. The results obtained with this model show a **better performance **(in terms of minor operating cost of the pumps), if compared with the BQM used by the authors."
      ],
      "metadata": {
        "id": "Mb3ufGuzidrN"
      }
    },
    {
      "cell_type": "code",
      "execution_count": 14,
      "metadata": {
        "id": "vDBg8PyQrZgY",
        "colab": {
          "base_uri": "https://localhost:8080/"
        },
        "outputId": "6d735d37-bcf3-4ac7-fa9b-7b464dff6167"
      },
      "outputs": [
        {
          "output_type": "stream",
          "name": "stdout",
          "text": [
            "Requirement already satisfied: dwave-ocean-sdk in /usr/local/lib/python3.7/dist-packages (4.5.0)\n",
            "Requirement already satisfied: dwavebinarycsp==0.1.4 in /usr/local/lib/python3.7/dist-packages (from dwave-ocean-sdk) (0.1.4)\n",
            "Requirement already satisfied: dwave-hybrid==0.6.6 in /usr/local/lib/python3.7/dist-packages (from dwave-ocean-sdk) (0.6.6)\n",
            "Requirement already satisfied: minorminer==0.2.7.post0 in /usr/local/lib/python3.7/dist-packages (from dwave-ocean-sdk) (0.2.7.post0)\n",
            "Requirement already satisfied: dwave-qbsolv==0.3.4 in /usr/local/lib/python3.7/dist-packages (from dwave-ocean-sdk) (0.3.4)\n",
            "Requirement already satisfied: penaltymodel-mip==0.2.6 in /usr/local/lib/python3.7/dist-packages (from dwave-ocean-sdk) (0.2.6)\n",
            "Requirement already satisfied: dwave-system==1.13.1 in /usr/local/lib/python3.7/dist-packages (from dwave-ocean-sdk) (1.13.1)\n",
            "Requirement already satisfied: dwave-tabu==0.4.4 in /usr/local/lib/python3.7/dist-packages (from dwave-ocean-sdk) (0.4.4)\n",
            "Requirement already satisfied: penaltymodel-lp==0.1.6 in /usr/local/lib/python3.7/dist-packages (from dwave-ocean-sdk) (0.1.6)\n",
            "Requirement already satisfied: pyqubo==1.2.0 in /usr/local/lib/python3.7/dist-packages (from dwave-ocean-sdk) (1.2.0)\n",
            "Requirement already satisfied: penaltymodel-cache==0.4.5 in /usr/local/lib/python3.7/dist-packages (from dwave-ocean-sdk) (0.4.5)\n",
            "Requirement already satisfied: dwave-networkx==0.8.12 in /usr/local/lib/python3.7/dist-packages (from dwave-ocean-sdk) (0.8.12)\n",
            "Requirement already satisfied: dwave-neal==0.5.9 in /usr/local/lib/python3.7/dist-packages (from dwave-ocean-sdk) (0.5.9)\n",
            "Requirement already satisfied: penaltymodel==0.16.6 in /usr/local/lib/python3.7/dist-packages (from dwave-ocean-sdk) (0.16.6)\n",
            "Requirement already satisfied: dwave-cloud-client==0.9.5 in /usr/local/lib/python3.7/dist-packages (from dwave-ocean-sdk) (0.9.5)\n",
            "Requirement already satisfied: dwave-inspector==0.2.10 in /usr/local/lib/python3.7/dist-packages (from dwave-ocean-sdk) (0.2.10)\n",
            "Requirement already satisfied: dwave-greedy==0.2.3 in /usr/local/lib/python3.7/dist-packages (from dwave-ocean-sdk) (0.2.3)\n",
            "Requirement already satisfied: dimod==0.10.17 in /usr/local/lib/python3.7/dist-packages (from dwave-ocean-sdk) (0.10.17)\n",
            "Requirement already satisfied: dwave-preprocessing==0.3.2 in /usr/local/lib/python3.7/dist-packages (from dwave-ocean-sdk) (0.3.2)\n",
            "Requirement already satisfied: numpy<2.0.0,>=1.19.1 in /usr/local/lib/python3.7/dist-packages (from dimod==0.10.17->dwave-ocean-sdk) (1.21.6)\n",
            "Requirement already satisfied: pyparsing<3.0.0,>=2.4.7 in /usr/local/lib/python3.7/dist-packages (from dimod==0.10.17->dwave-ocean-sdk) (2.4.7)\n",
            "Requirement already satisfied: homebase>=1.0 in /usr/local/lib/python3.7/dist-packages (from dwave-cloud-client==0.9.5->dwave-ocean-sdk) (1.0.1)\n",
            "Requirement already satisfied: click>=7.0 in /usr/local/lib/python3.7/dist-packages (from dwave-cloud-client==0.9.5->dwave-ocean-sdk) (7.1.2)\n",
            "Requirement already satisfied: diskcache>=5.2.1 in /usr/local/lib/python3.7/dist-packages (from dwave-cloud-client==0.9.5->dwave-ocean-sdk) (5.4.0)\n",
            "Requirement already satisfied: pydantic>=1.7.3 in /usr/local/lib/python3.7/dist-packages (from dwave-cloud-client==0.9.5->dwave-ocean-sdk) (1.9.0)\n",
            "Requirement already satisfied: plucky>=0.4.3 in /usr/local/lib/python3.7/dist-packages (from dwave-cloud-client==0.9.5->dwave-ocean-sdk) (0.4.3)\n",
            "Requirement already satisfied: requests[socks]>=2.18 in /usr/local/lib/python3.7/dist-packages (from dwave-cloud-client==0.9.5->dwave-ocean-sdk) (2.23.0)\n",
            "Requirement already satisfied: python-dateutil>=2.7 in /usr/local/lib/python3.7/dist-packages (from dwave-cloud-client==0.9.5->dwave-ocean-sdk) (2.8.2)\n",
            "Requirement already satisfied: importlib-metadata>=1.0 in /usr/local/lib/python3.7/dist-packages (from dwave-greedy==0.2.3->dwave-ocean-sdk) (4.11.3)\n",
            "Requirement already satisfied: networkx in /usr/local/lib/python3.7/dist-packages (from dwave-hybrid==0.6.6->dwave-ocean-sdk) (2.6.3)\n",
            "Requirement already satisfied: Flask>=1.1.1 in /usr/local/lib/python3.7/dist-packages (from dwave-inspector==0.2.10->dwave-ocean-sdk) (1.1.4)\n",
            "Requirement already satisfied: importlib-resources>=3.2.0 in /usr/local/lib/python3.7/dist-packages (from dwave-inspector==0.2.10->dwave-ocean-sdk) (5.7.1)\n",
            "Requirement already satisfied: scipy in /usr/local/lib/python3.7/dist-packages (from minorminer==0.2.7.post0->dwave-ocean-sdk) (1.7.3)\n",
            "Requirement already satisfied: rectangle-packer>=2.0.1 in /usr/local/lib/python3.7/dist-packages (from minorminer==0.2.7.post0->dwave-ocean-sdk) (2.0.1)\n",
            "Requirement already satisfied: fasteners in /usr/local/lib/python3.7/dist-packages (from minorminer==0.2.7.post0->dwave-ocean-sdk) (0.17.3)\n",
            "Requirement already satisfied: ortools<10.0.0,>=6.6.4659 in /usr/local/lib/python3.7/dist-packages (from penaltymodel-mip==0.2.6->dwave-ocean-sdk) (9.3.10497)\n",
            "Requirement already satisfied: six>=1.15.0 in /usr/local/lib/python3.7/dist-packages (from pyqubo==1.2.0->dwave-ocean-sdk) (1.15.0)\n",
            "Requirement already satisfied: Deprecated>=1.2.12 in /usr/local/lib/python3.7/dist-packages (from pyqubo==1.2.0->dwave-ocean-sdk) (1.2.13)\n",
            "Requirement already satisfied: wrapt<2,>=1.10 in /usr/local/lib/python3.7/dist-packages (from Deprecated>=1.2.12->pyqubo==1.2.0->dwave-ocean-sdk) (1.14.0)\n",
            "Requirement already satisfied: Jinja2<3.0,>=2.10.1 in /usr/local/lib/python3.7/dist-packages (from Flask>=1.1.1->dwave-inspector==0.2.10->dwave-ocean-sdk) (2.11.3)\n",
            "Requirement already satisfied: Werkzeug<2.0,>=0.15 in /usr/local/lib/python3.7/dist-packages (from Flask>=1.1.1->dwave-inspector==0.2.10->dwave-ocean-sdk) (1.0.1)\n",
            "Requirement already satisfied: itsdangerous<2.0,>=0.24 in /usr/local/lib/python3.7/dist-packages (from Flask>=1.1.1->dwave-inspector==0.2.10->dwave-ocean-sdk) (1.1.0)\n",
            "Requirement already satisfied: zipp>=0.5 in /usr/local/lib/python3.7/dist-packages (from importlib-metadata>=1.0->dwave-greedy==0.2.3->dwave-ocean-sdk) (3.8.0)\n",
            "Requirement already satisfied: typing-extensions>=3.6.4 in /usr/local/lib/python3.7/dist-packages (from importlib-metadata>=1.0->dwave-greedy==0.2.3->dwave-ocean-sdk) (4.2.0)\n",
            "Requirement already satisfied: MarkupSafe>=0.23 in /usr/local/lib/python3.7/dist-packages (from Jinja2<3.0,>=2.10.1->Flask>=1.1.1->dwave-inspector==0.2.10->dwave-ocean-sdk) (2.0.1)\n",
            "Requirement already satisfied: protobuf>=3.19.4 in /usr/local/lib/python3.7/dist-packages (from ortools<10.0.0,>=6.6.4659->penaltymodel-mip==0.2.6->dwave-ocean-sdk) (3.20.1)\n",
            "Requirement already satisfied: absl-py>=0.13 in /usr/local/lib/python3.7/dist-packages (from ortools<10.0.0,>=6.6.4659->penaltymodel-mip==0.2.6->dwave-ocean-sdk) (1.0.0)\n",
            "Requirement already satisfied: idna<3,>=2.5 in /usr/local/lib/python3.7/dist-packages (from requests[socks]>=2.18->dwave-cloud-client==0.9.5->dwave-ocean-sdk) (2.10)\n",
            "Requirement already satisfied: chardet<4,>=3.0.2 in /usr/local/lib/python3.7/dist-packages (from requests[socks]>=2.18->dwave-cloud-client==0.9.5->dwave-ocean-sdk) (3.0.4)\n",
            "Requirement already satisfied: urllib3!=1.25.0,!=1.25.1,<1.26,>=1.21.1 in /usr/local/lib/python3.7/dist-packages (from requests[socks]>=2.18->dwave-cloud-client==0.9.5->dwave-ocean-sdk) (1.24.3)\n",
            "Requirement already satisfied: certifi>=2017.4.17 in /usr/local/lib/python3.7/dist-packages (from requests[socks]>=2.18->dwave-cloud-client==0.9.5->dwave-ocean-sdk) (2021.10.8)\n",
            "Requirement already satisfied: PySocks!=1.5.7,>=1.5.6 in /usr/local/lib/python3.7/dist-packages (from requests[socks]>=2.18->dwave-cloud-client==0.9.5->dwave-ocean-sdk) (1.7.1)\n",
            "Optionally install non-open-source packages and configure your environment.\n",
            "\n",
            "Do you want to select non-open-source packages to install (y/n)? [y]: \n",
            "\n",
            "D-Wave Drivers installed and up to date.\n",
            "\n",
            "D-Wave Problem Inspector installed and up to date.\n",
            "\n",
            "Creating the D-Wave configuration file.\n",
            "Using the simplified configuration flow.\n",
            "Try 'dwave config create --full' for more options.\n",
            "\n",
            "Updating existing configuration file: /root/.config/dwave/dwave.conf\n",
            "Available profiles: defaults\n",
            "Profile (select existing or create new) [defaults]: \n",
            "Updating existing profile: defaults\n",
            "Authentication token [DEV-191007f197e443cdc321580c4e2497cd3ea87efc]: DEV-191007f197e443cdc321580c4e2497cd3ea87efc\n",
            "Configuration saved.\n"
          ]
        }
      ],
      "source": [
        "! pip install dwave-ocean-sdk\n",
        "! dwave setup"
      ]
    },
    {
      "cell_type": "code",
      "source": [
        "import os\n",
        "import itertools\n",
        "import click\n",
        "import pandas as pd\n",
        "import numpy as np\n",
        "from dwave.system import LeapHybridCQMSampler, LeapHybridSampler\n",
        "from dimod import ConstrainedQuadraticModel, BinaryQuadraticModel, QuadraticModel, quicksum, dimod\n",
        "import matplotlib.pyplot as plt"
      ],
      "metadata": {
        "id": "NVBDocd6r0Aw"
      },
      "execution_count": 15,
      "outputs": []
    },
    {
      "cell_type": "code",
      "source": [
        "# Set up scenario\n",
        "num_pumps = 7\n",
        "pumps = ['P'+str(p+1) for p in range(num_pumps)]\n",
        "time = list(range(1, 25))\n",
        "power = [15, 37, 33, 33, 22, 33, 22]\n",
        "costs = [169]*7 + [283]*6 + [169]*3 + [336]*5 + [169]*3\n",
        "flow = [75, 133, 157, 176, 59, 69, 120]\n",
        "demand = [44.62, 31.27, 26.22, 27.51, 31.50, 46.18, 69.47, 100.36, 131.85, \n",
        "            148.51, 149.89, 142.21, 132.09, 129.29, 124.06, 114.68, 109.33, \n",
        "            115.76, 126.95, 131.48, 138.86, 131.91, 111.53, 70.43]\n",
        "            \n",
        "v_init = 550\n",
        "v_min = 523.5\n",
        "v_max = 1500"
      ],
      "metadata": {
        "id": "oIhHU5_Yr0DN"
      },
      "execution_count": 16,
      "outputs": []
    },
    {
      "cell_type": "code",
      "source": [
        "def build_cqm(num_pumps=num_pumps, costs=costs, flow=flow, demand=demand):\n",
        "\n",
        "  print(\"\\nBuilding a CQM for {} pumps.\".format(str(num_pumps)))\n",
        "  cqm = ConstrainedQuadraticModel()\n",
        "\n",
        "  # Objective is to minimize the total costs\n",
        "  objective = quicksum(x[p][t] *  power[p] * costs[t]/1000 for t in range(len(time)) for p in range(num_pumps))\n",
        "  cqm.set_objective(objective)\n",
        "\n",
        "  #Constraint 1: Every pump runs at least once per day\n",
        "  for p in range(num_pumps):\n",
        "    cqm.add_constraint(\n",
        "      quicksum(x[p][t] for t in range(len(time))) >= 1\n",
        "      )\n",
        "\n",
        "  #Constraint 2: At most num_pumps-1 pumps per time slot (1 pump kept off as a backup)\n",
        "  for t in range(len(time)):\n",
        "    cqm.add_constraint(\n",
        "      quicksum(x[p][t] for p in range(num_pumps)) <= (num_pumps - 1)\n",
        "      )\n",
        "    \n",
        "  for t in range(len(time)):\n",
        "  #Constraint 3: Satisfy a resource demand varying with time and level maintained within a specific range (v_min ÷v_max)\n",
        "    water_level = v_init - sum(demand[0:t+1])\n",
        "    cqm.add_constraint(\n",
        "    quicksum(x[p][k]*(flow[p]) for p in range(num_pumps) for k in range(t+1)) >= (v_min - water_level)\n",
        "    )\n",
        "\n",
        "  for t in range(len(time)):\n",
        "      water_level = v_init - sum(demand[0:t+1])\n",
        "      cqm.add_constraint(\n",
        "      quicksum(x[p][k]*(flow[p]) for p in range(num_pumps) for k in range(t+1)) <= (v_max - water_level)\n",
        "      )\n",
        "\n",
        "  return cqm"
      ],
      "metadata": {
        "id": "GQ9iIOxqkNLY"
      },
      "execution_count": 17,
      "outputs": []
    },
    {
      "cell_type": "code",
      "source": [
        "def parse_solution(sampleset, costs=costs, flow=flow):\n",
        "\n",
        "  feasible_sampleset = sampleset.filter(lambda row: row.is_feasible)\n",
        "\n",
        "  if not len(feasible_sampleset):\n",
        "      raise ValueError(\"No feasible solution found\")\n",
        "\n",
        "  print(\"\\nProcessing sampleset returned...\")\n",
        "\n",
        "  y = [['P' + str(p) + '_' + str(t) for t in time] for p in range(num_pumps)]\n",
        "  best = feasible_sampleset.first\n",
        "\n",
        "\n",
        "  verbose = True\n",
        "  total_flow = 0\n",
        "  total_cost = 0\n",
        "  # Print out time slots header\n",
        "  if verbose:\n",
        "      timeslots = \"\\n\\t\" + \"\\t\".join(str(t) for t in time)\n",
        "      print(timeslots)\n",
        "  for p in range(num_pumps):\n",
        "    printout = str(pumps[p])\n",
        "    for t in range(len(time)):\n",
        "        printout += \"\\t\" + str(best.sample[y[p][t]])\n",
        "        total_flow += best.sample[y[p][t]] * flow[p]\n",
        "        total_cost += best.sample[y[p][t]] * costs[t] * power[p] / 1000\n",
        "    if verbose:\n",
        "        print(printout)\n",
        "\n",
        "\n",
        "  # Generate printout for general water levels\n",
        "  printout = \"Level:\\t\"\n",
        "  reservoir = [v_init]\n",
        "  pump_flow_schedule = []\n",
        "  for t in range(len(time)):\n",
        "      hourly_flow = reservoir[-1]\n",
        "      for p in range(num_pumps):\n",
        "          hourly_flow += best.sample[y[p][t]] * flow[p]\n",
        "      reservoir.append(hourly_flow-demand[t])\n",
        "      pump_flow_schedule.append(hourly_flow - reservoir[-2])\n",
        "      printout += str(int(reservoir[-1])) + \"\\t\"\n",
        "  if verbose:\n",
        "      print(\"\\n\" + printout)\n",
        "\n",
        "  # Print out total flow and cost information\n",
        "  print(\"\\nTotal flow:\\t\", total_flow)\n",
        "  print(\"Total cost:\\t\", total_cost, \"\\n\")\n",
        "\n",
        "    "
      ],
      "metadata": {
        "id": "jBkDAmbolw6b"
      },
      "execution_count": 18,
      "outputs": []
    },
    {
      "cell_type": "code",
      "source": [
        "# Build a variable for each pump\n",
        "x = [[dimod.Binary(f'P{p}_{t}') for t in time] for p in range(num_pumps)]\n",
        "\n",
        "# Initialize CQM\n",
        "cqm = build_cqm()\n",
        "\n",
        "# Instantiate the sampler\n",
        "sampler = LeapHybridCQMSampler()\n",
        "print(\"Submitting CQM to solver {}.\".format(sampler.solver.name))\n",
        "sampleset = sampler.sample_cqm(cqm, label='Example - Reservoir')"
      ],
      "metadata": {
        "colab": {
          "base_uri": "https://localhost:8080/"
        },
        "id": "bhmVETrUk9rY",
        "outputId": "8451c063-33f7-4a0b-9209-790c2783e6d3"
      },
      "execution_count": 19,
      "outputs": [
        {
          "output_type": "stream",
          "name": "stdout",
          "text": [
            "\n",
            "Building a CQM for 7 pumps.\n",
            "Submitting CQM to solver hybrid_constrained_quadratic_model_version1.\n"
          ]
        }
      ]
    },
    {
      "cell_type": "code",
      "source": [
        "parse_solution(sampleset)"
      ],
      "metadata": {
        "colab": {
          "base_uri": "https://localhost:8080/"
        },
        "id": "Atib7-Sxms2H",
        "outputId": "08a08ba3-5349-42bb-ccab-04a5218220d0"
      },
      "execution_count": 20,
      "outputs": [
        {
          "output_type": "stream",
          "name": "stdout",
          "text": [
            "\n",
            "Processing sampleset returned...\n",
            "\n",
            "\t1\t2\t3\t4\t5\t6\t7\t8\t9\t10\t11\t12\t13\t14\t15\t16\t17\t18\t19\t20\t21\t22\t23\t24\n",
            "P1\t0.0\t0.0\t0.0\t0.0\t0.0\t0.0\t1.0\t0.0\t0.0\t0.0\t0.0\t0.0\t0.0\t1.0\t1.0\t0.0\t0.0\t0.0\t0.0\t0.0\t0.0\t0.0\t0.0\t0.0\n",
            "P2\t1.0\t0.0\t0.0\t0.0\t0.0\t0.0\t0.0\t0.0\t0.0\t0.0\t0.0\t0.0\t0.0\t0.0\t0.0\t0.0\t0.0\t0.0\t0.0\t0.0\t0.0\t0.0\t0.0\t0.0\n",
            "P3\t1.0\t0.0\t0.0\t0.0\t0.0\t0.0\t0.0\t0.0\t0.0\t0.0\t0.0\t0.0\t0.0\t0.0\t0.0\t0.0\t0.0\t0.0\t0.0\t0.0\t0.0\t0.0\t0.0\t0.0\n",
            "P4\t1.0\t0.0\t0.0\t0.0\t0.0\t0.0\t1.0\t0.0\t0.0\t0.0\t0.0\t0.0\t0.0\t1.0\t1.0\t0.0\t0.0\t0.0\t0.0\t0.0\t0.0\t1.0\t0.0\t0.0\n",
            "P5\t0.0\t0.0\t0.0\t0.0\t0.0\t0.0\t0.0\t0.0\t0.0\t0.0\t0.0\t0.0\t0.0\t1.0\t0.0\t0.0\t0.0\t0.0\t0.0\t0.0\t0.0\t0.0\t0.0\t0.0\n",
            "P6\t0.0\t0.0\t0.0\t0.0\t0.0\t0.0\t1.0\t0.0\t0.0\t0.0\t0.0\t0.0\t0.0\t0.0\t0.0\t0.0\t0.0\t0.0\t0.0\t0.0\t0.0\t0.0\t0.0\t0.0\n",
            "P7\t0.0\t0.0\t0.0\t0.0\t1.0\t1.0\t1.0\t0.0\t0.0\t0.0\t0.0\t0.0\t0.0\t1.0\t1.0\t1.0\t0.0\t0.0\t0.0\t0.0\t0.0\t1.0\t0.0\t0.0\n",
            "\n",
            "Level:\t971\t940\t913\t886\t974\t1048\t1419\t1318\t1187\t1038\t888\t746\t614\t915\t1161\t1167\t1057\t942\t815\t683\t544\t709\t597\t527\t\n",
            "\n",
            "Total flow:\t 2363.0\n",
            "Total cost:\t 82.64100000000002 \n",
            "\n"
          ]
        }
      ]
    }
  ]
}