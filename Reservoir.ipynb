{
  "nbformat": 4,
  "nbformat_minor": 0,
  "metadata": {
    "colab": {
      "name": "Reservoir",
      "provenance": [],
      "collapsed_sections": [],
      "authorship_tag": "ABX9TyMzEXzIlUC/eLCW+tudmrq0",
      "include_colab_link": true
    },
    "kernelspec": {
      "name": "python3",
      "display_name": "Python 3"
    },
    "language_info": {
      "name": "python"
    }
  },
  "cells": [
    {
      "cell_type": "markdown",
      "metadata": {
        "id": "view-in-github",
        "colab_type": "text"
      },
      "source": [
        "<a href=\"https://colab.research.google.com/github/bruno-raffa/Quantum-exercises/blob/main/Reservoir.ipynb\" target=\"_parent\"><img src=\"https://colab.research.google.com/assets/colab-badge.svg\" alt=\"Open In Colab\"/></a>"
      ]
    },
    {
      "cell_type": "code",
      "execution_count": null,
      "metadata": {
        "id": "vDBg8PyQrZgY"
      },
      "outputs": [],
      "source": [
        "! pip install dwave-ocean-sdk\n",
        "! dwave setup"
      ]
    },
    {
      "cell_type": "code",
      "source": [
        "import os\n",
        "import itertools\n",
        "import click\n",
        "import pandas as pd\n",
        "import numpy as np\n",
        "from dwave.system import LeapHybridCQMSampler, LeapHybridSampler\n",
        "from dimod import ConstrainedQuadraticModel, BinaryQuadraticModel, QuadraticModel, quicksum, dimod\n",
        "import matplotlib.pyplot as plt"
      ],
      "metadata": {
        "id": "NVBDocd6r0Aw"
      },
      "execution_count": null,
      "outputs": []
    },
    {
      "cell_type": "code",
      "source": [
        "# Set up scenario\n",
        "num_pumps = 7\n",
        "pumps = ['P'+str(p+1) for p in range(num_pumps)]\n",
        "time = list(range(1, 25))\n",
        "power = [15, 37, 33, 33, 22, 33, 22]\n",
        "costs = [169]*7 + [283]*6 + [169]*3 + [336]*5 + [169]*3\n",
        "flow = [75, 133, 157, 176, 59, 69, 120]\n",
        "demand = [44.62, 31.27, 26.22, 27.51, 31.50, 46.18, 69.47, 100.36, 131.85, \n",
        "            148.51, 149.89, 142.21, 132.09, 129.29, 124.06, 114.68, 109.33, \n",
        "            115.76, 126.95, 131.48, 138.86, 131.91, 111.53, 70.43]\n",
        "            \n",
        "v_init = 550\n",
        "v_min = 523.5\n",
        "v_max = 1500"
      ],
      "metadata": {
        "id": "oIhHU5_Yr0DN"
      },
      "execution_count": null,
      "outputs": []
    },
    {
      "cell_type": "code",
      "source": [
        "def build_cqm(num_pumps=num_pumps, costs=costs, flow=flow, demand=demand):\n",
        "\n",
        "  print(\"\\nBuilding a CQM for {} pumps.\".format(str(num_pumps)))\n",
        "  cqm = ConstrainedQuadraticModel()\n",
        "\n",
        "  # Objective is to minimize the total costs\n",
        "  objective = quicksum(x[p][t] *  power[p] * costs[t]/1000 for t in range(len(time)) for p in range(num_pumps))\n",
        "  cqm.set_objective(objective)\n",
        "\n",
        "  #Constraint 1: Every pump runs at least once per day\n",
        "  for p in range(num_pumps):\n",
        "    cqm.add_constraint(\n",
        "      quicksum(x[p][t] for t in range(len(time))) >= 1\n",
        "      )\n",
        "\n",
        "  #Constraint 2: At most num_pumps-1 pumps per time slot (1 pump kept off as a backup)\n",
        "  for t in range(len(time)):\n",
        "    cqm.add_constraint(\n",
        "      quicksum(x[p][t] for p in range(num_pumps)) <= (num_pumps - 1)\n",
        "      )\n",
        "    \n",
        "  #Constraint 3: Satisfy a reosurce demand varying with time and level maintained within a specific range\n",
        "  for t in range(len(time)):\n",
        "    water_level = v_init - sum(demand[0:t+1])\n",
        "    cqm.add_constraint(\n",
        "    quicksum(x[p][k]*(flow[p]) for p in range(num_pumps) for k in range(t+1)) >= v_min - water_level\n",
        "    )\n",
        "\n",
        "  for t in range(len(time)):\n",
        "      water_level = v_init - sum(demand[0:t+1])\n",
        "      cqm.add_constraint(\n",
        "      quicksum(x[p][k]*(flow[p]) for p in range(num_pumps) for k in range(t+1)) <= v_max - water_level\n",
        "      )\n",
        "\n",
        "  return cqm"
      ],
      "metadata": {
        "id": "GQ9iIOxqkNLY"
      },
      "execution_count": null,
      "outputs": []
    },
    {
      "cell_type": "code",
      "source": [
        "def parse_solution(sampleset, costs=costs, flow=flow):\n",
        "\n",
        "  feasible_sampleset = sampleset.filter(lambda row: row.is_feasible)\n",
        "\n",
        "  if not len(feasible_sampleset):\n",
        "      raise ValueError(\"No feasible solution found\")\n",
        "\n",
        "  print(\"\\nProcessing sampleset returned...\")\n",
        "\n",
        "  y = [['P' + str(p) + '_' + str(t) for t in time] for p in range(num_pumps)]\n",
        "  best = feasible_sampleset.first\n",
        "\n",
        "\n",
        "  verbose = True\n",
        "  total_flow = 0\n",
        "  total_cost = 0\n",
        "  # Print out time slots header\n",
        "  if verbose:\n",
        "      timeslots = \"\\n\\t\" + \"\\t\".join(str(t) for t in time)\n",
        "      print(timeslots)\n",
        "  for p in range(num_pumps):\n",
        "    printout = str(pumps[p])\n",
        "    for t in range(len(time)):\n",
        "        printout += \"\\t\" + str(best.sample[y[p][t]])\n",
        "        total_flow += best.sample[y[p][t]] * flow[p]\n",
        "        total_cost += best.sample[y[p][t]] * costs[t] * power[p] / 1000\n",
        "    if verbose:\n",
        "        print(printout)\n",
        "\n",
        "\n",
        "  # Generate printout for general water levels\n",
        "  printout = \"Level:\\t\"\n",
        "  reservoir = [v_init]\n",
        "  pump_flow_schedule = []\n",
        "  for t in range(len(time)):\n",
        "      hourly_flow = reservoir[-1]\n",
        "      for p in range(num_pumps):\n",
        "          hourly_flow += best.sample[y[p][t]] * flow[p]\n",
        "      reservoir.append(hourly_flow-demand[t])\n",
        "      pump_flow_schedule.append(hourly_flow - reservoir[-2])\n",
        "      printout += str(int(reservoir[-1])) + \"\\t\"\n",
        "  if verbose:\n",
        "      print(\"\\n\" + printout)\n",
        "\n",
        "  # Print out total flow and cost information\n",
        "  print(\"\\nTotal flow:\\t\", total_flow)\n",
        "  print(\"Total cost:\\t\", total_cost, \"\\n\")\n",
        "\n",
        "    "
      ],
      "metadata": {
        "id": "jBkDAmbolw6b"
      },
      "execution_count": null,
      "outputs": []
    },
    {
      "cell_type": "code",
      "source": [
        "# Build a variable for each pump\n",
        "x = [[dimod.Binary(f'P{p}_{t}') for t in time] for p in range(num_pumps)]\n",
        "\n",
        "# Initialize CQM\n",
        "cqm = build_cqm()\n",
        "\n",
        "# Instantiate the sampler\n",
        "sampler = LeapHybridCQMSampler()\n",
        "print(\"Submitting CQM to solver {}.\".format(sampler.solver.name))\n",
        "sampleset = sampler.sample_cqm(cqm, label='Example - Reservoir')"
      ],
      "metadata": {
        "colab": {
          "base_uri": "https://localhost:8080/"
        },
        "id": "bhmVETrUk9rY",
        "outputId": "1157fe49-7cf6-4862-b1a3-f95bb3fbf366"
      },
      "execution_count": null,
      "outputs": [
        {
          "output_type": "stream",
          "name": "stdout",
          "text": [
            "\n",
            "Building a CQM for 7 pumps.\n",
            "Submitting CQM to solver hybrid_constrained_quadratic_model_version1.\n"
          ]
        }
      ]
    },
    {
      "cell_type": "code",
      "source": [
        "parse_solution(sampleset)"
      ],
      "metadata": {
        "colab": {
          "base_uri": "https://localhost:8080/"
        },
        "id": "Atib7-Sxms2H",
        "outputId": "4590512b-3d4e-40d9-e2b6-4516c6cc12c6"
      },
      "execution_count": null,
      "outputs": [
        {
          "output_type": "stream",
          "name": "stdout",
          "text": [
            "\n",
            "Processing sampleset returned...\n",
            "\n",
            "\t1\t2\t3\t4\t5\t6\t7\t8\t9\t10\t11\t12\t13\t14\t15\t16\t17\t18\t19\t20\t21\t22\t23\t24\n",
            "P1\t0.0\t1.0\t0.0\t0.0\t0.0\t1.0\t0.0\t0.0\t0.0\t0.0\t0.0\t0.0\t0.0\t0.0\t0.0\t0.0\t0.0\t0.0\t0.0\t0.0\t0.0\t1.0\t0.0\t0.0\n",
            "P2\t0.0\t0.0\t0.0\t1.0\t0.0\t0.0\t0.0\t0.0\t0.0\t0.0\t0.0\t0.0\t0.0\t0.0\t0.0\t0.0\t0.0\t0.0\t0.0\t0.0\t0.0\t0.0\t0.0\t0.0\n",
            "P3\t0.0\t0.0\t0.0\t0.0\t0.0\t0.0\t0.0\t0.0\t0.0\t0.0\t0.0\t0.0\t0.0\t1.0\t0.0\t0.0\t0.0\t0.0\t0.0\t0.0\t0.0\t0.0\t0.0\t0.0\n",
            "P4\t0.0\t0.0\t0.0\t0.0\t0.0\t0.0\t1.0\t0.0\t0.0\t0.0\t0.0\t0.0\t0.0\t1.0\t1.0\t1.0\t0.0\t0.0\t0.0\t0.0\t0.0\t1.0\t0.0\t0.0\n",
            "P5\t0.0\t0.0\t0.0\t0.0\t0.0\t0.0\t0.0\t0.0\t0.0\t0.0\t0.0\t0.0\t0.0\t0.0\t0.0\t0.0\t0.0\t0.0\t0.0\t0.0\t0.0\t0.0\t1.0\t0.0\n",
            "P6\t0.0\t0.0\t0.0\t0.0\t0.0\t0.0\t0.0\t0.0\t0.0\t0.0\t0.0\t0.0\t0.0\t1.0\t0.0\t0.0\t0.0\t0.0\t0.0\t0.0\t0.0\t0.0\t0.0\t0.0\n",
            "P7\t1.0\t1.0\t1.0\t0.0\t1.0\t1.0\t0.0\t0.0\t0.0\t0.0\t0.0\t0.0\t0.0\t1.0\t1.0\t0.0\t0.0\t0.0\t0.0\t0.0\t0.0\t0.0\t0.0\t0.0\n",
            "\n",
            "Level:\t625\t789\t882\t988\t1076\t1225\t1332\t1231\t1100\t951\t801\t659\t527\t920\t1091\t1153\t1043\t928\t801\t669\t530\t650\t597\t527\t\n",
            "\n",
            "Total flow:\t 2363.0\n",
            "Total cost:\t 82.64100000000002 \n",
            "\n"
          ]
        }
      ]
    }
  ]
}