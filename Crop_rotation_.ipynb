{
  "nbformat": 4,
  "nbformat_minor": 0,
  "metadata": {
    "colab": {
      "name": "Crop rotation .ipynb",
      "provenance": [],
      "collapsed_sections": [],
      "authorship_tag": "ABX9TyP57+8phklL0dRYI46P6wnG",
      "include_colab_link": true
    },
    "kernelspec": {
      "name": "python3",
      "display_name": "Python 3"
    },
    "language_info": {
      "name": "python"
    }
  },
  "cells": [
    {
      "cell_type": "markdown",
      "metadata": {
        "id": "view-in-github",
        "colab_type": "text"
      },
      "source": [
        "<a href=\"https://colab.research.google.com/github/bruno-raffa/Quantum-exercises/blob/main/Crop_rotation_.ipynb\" target=\"_parent\"><img src=\"https://colab.research.google.com/assets/colab-badge.svg\" alt=\"Open In Colab\"/></a>"
      ]
    },
    {
      "cell_type": "markdown",
      "source": [
        "# Crop Rotation\n",
        "\n",
        "This exercise deals with the D-wave example of a \"Crop Rotation\". Here a problem's description from D-Wave:\n",
        "\n",
        "*Crop rotation is the agricultural practice of growing a series of different crops in a set of areas, called plots, over time. Crop rotation has benefits that include improved soil structure and reduced dependence on pesticides, herbicides, and fertilizers.* https://github.com/dwave-examples/crop-rotation\n",
        "\n",
        "The challenge is coped on D-wave using a DQM. In this notebook instead the problem was solved using a CQM. The results obtained with this model show a much *better performance* (in terms of a greater soil utilization), if compared with the DQM used by the authors."
      ],
      "metadata": {
        "id": "U4M2c_4P_R6p"
      }
    },
    {
      "cell_type": "code",
      "source": [
        "! pip install dwave-ocean-sdk\n",
        "! dwave setup"
      ],
      "metadata": {
        "id": "wtpIZT7s_1Ba"
      },
      "execution_count": null,
      "outputs": []
    },
    {
      "cell_type": "code",
      "source": [
        "import matplotlib \n",
        "import numpy as np\n",
        "from dimod import ConstrainedQuadraticModel, BinaryQuadraticModel, QuadraticModel, Binary, quicksum, Integer\n",
        "\n",
        "from dwave.system import LeapHybridCQMSampler\n",
        "\n",
        "import urllib.request\n",
        "from collections import defaultdict\n",
        "\n",
        "try:\n",
        "    import matplotlib.pyplot as plt\n",
        "except ImportError:\n",
        "    matplotlib.use(\"agg\")\n",
        "\n",
        "import yaml\n",
        "import urllib.request\n",
        "from collections import defaultdict\n",
        "from matplotlib.colors import hsv_to_rgb\n",
        "from matplotlib.ticker import MultipleLocator\n",
        "import random"
      ],
      "metadata": {
        "id": "pT9wyz6vAz9N"
      },
      "execution_count": 83,
      "outputs": []
    },
    {
      "cell_type": "code",
      "source": [
        "def read_scenario(filename):\n",
        "  \"\"\"Load a problem file.\n",
        "    Args:\n",
        "        path (string): Path to input file.\n",
        "    Returns:\n",
        "        Tuple of time_units (int), plot_adjacency (dict), and crops (dict).\n",
        "    \"\"\"\n",
        "\n",
        "  try:\n",
        "    data = list((yaml.safe_load_all(urllib.request.urlopen(filename))))[0]\n",
        "\n",
        "  except IndexError:\n",
        "        raise InvalidProblem('empty file')\n",
        "        \n",
        "  time_units = data['time_units']\n",
        "  plot_adjacency = data['plot_adjacency']\n",
        "  crops = data['crops']\n",
        "\n",
        "  return time_units, plot_adjacency, crops"
      ],
      "metadata": {
        "id": "Ug4TJxLwAz7e"
      },
      "execution_count": 84,
      "outputs": []
    },
    {
      "cell_type": "code",
      "source": [
        "def crop_colors(crop_families):\n",
        "    \"\"\"Generate colors for crops to be used in visualization of solution.\n",
        "    All crops should have a unique color and crops in the same family should\n",
        "    have similar colors.\n",
        "    Args:\n",
        "        crop_families (dict):\n",
        "            Dictionary of crop family names mapped to crops.\n",
        "    Returns:\n",
        "        Dictionary of crop names mapped to colors.\n",
        "    \"\"\"\n",
        "    h_scale = 2 / (3 * len(crop_families))\n",
        "    colors = {}\n",
        "\n",
        "    for k, crops in enumerate(crop_families.values()):\n",
        "        h_fam = k / len(crop_families)\n",
        "\n",
        "        for crop in crops:\n",
        "            h = h_fam + (random.random() - 0.5) * h_scale\n",
        "            colors[crop] = (min(1, max(0, h)),\n",
        "                            0.7 + (random.random() - 0.5) * 0.3,\n",
        "                            0.7 + (random.random() - 0.5) * 0.3)\n",
        "\n",
        "    return {crop: hsv_to_rgb(color) for crop, color in colors.items()}"
      ],
      "metadata": {
        "id": "_9GFDJK8Az4u"
      },
      "execution_count": 85,
      "outputs": []
    },
    {
      "cell_type": "code",
      "source": [
        "# Set up scenario\n",
        "\n",
        "filename = 'https://raw.githubusercontent.com/dwave-examples/crop-rotation/main/data/problem1.yaml'\n",
        "time_units = read_scenario(filename)[0]\n",
        "plot_adjacency = read_scenario(filename)[1]\n",
        "crops = read_scenario(filename)[2]"
      ],
      "metadata": {
        "id": "vayhuK1VAz2W"
      },
      "execution_count": 86,
      "outputs": []
    },
    {
      "cell_type": "code",
      "source": [
        "#Reframe the initial data in more usable way\n",
        "\n",
        "period_crops = {1 + period: [] for period in range(time_units)}\n",
        "grow_time = {crop: dict_['grow_time']\n",
        "                          for crop, dict_ in crops.items()}\n",
        "\n",
        "crop_families = defaultdict(list)\n",
        "for crop, dict_ in crops.items():\n",
        "  for period in range(dict_['planting'][0], dict_['planting'][1] + 1):\n",
        "      period_crops[period].append(crop)\n",
        "  crop_families[dict_['family']].append(crop)\n",
        "\n",
        "\n",
        "_crop_r = []\n",
        "for crop in crops.keys():\n",
        "    range_ = range(grow_time[crop])\n",
        "    _crop_r.extend([(crop, r) for r in range_])\n",
        "\n",
        "_neighbor_pairs = []\n",
        "for plot, neighbors in plot_adjacency.items():\n",
        "    _neighbor_pairs.extend([(plot, v) for v in neighbors])\n",
        "\n",
        "crop_colors = crop_colors(crop_families)"
      ],
      "metadata": {
        "id": "NTCXtvRBBnBS"
      },
      "execution_count": 87,
      "outputs": []
    },
    {
      "cell_type": "code",
      "source": [
        "def build_cqm(time_units=time_units, plot_adjacency=plot_adjacency):\n",
        "\n",
        "  print(\"\\nBuilding a CQM for {} plots spanning {} months .\".format(str(len(plot_adjacency)), str(time_units)))\n",
        "\n",
        "  cqm = ConstrainedQuadraticModel()\n",
        "  objective = - (quicksum(x[k][j][i] * t_i \n",
        "                      for i, (crop_, t_i) in enumerate (grow_time.items()) \n",
        "                      for j in range(time_units) if crop_ in period_crops[j+1] \n",
        "                      for k in range(len(plot_adjacency)) \n",
        "    )\n",
        "  )\n",
        "    \n",
        "  cqm.set_objective(objective)\n",
        "\n",
        "  #Constraint 1: two crops cannot occupy the same space at the same time\n",
        "  for k in range(len(plot_adjacency)):\n",
        "    for j in range(time_units):\n",
        "      cqm.add_constraint(quicksum (x[k][j-r][i] \n",
        "                                    for i, (crop_, t_i) in enumerate (grow_time.items()) \n",
        "                                    for r in range (t_i) ) <= 1\n",
        "                                    )\n",
        "\n",
        "  #Constraint 2: two crops from the same family cannot be planted sequentially in the same plot\n",
        "  for k in range(len(plot_adjacency)):\n",
        "    for j in range(time_units):\n",
        "        for p in crop_families.values():        \n",
        "            cqm.add_constraint(quicksum \n",
        "                              (x[k][j-r][i] \n",
        "                                  for (_, F_p) in enumerate(p)\n",
        "                                  for i, (crop_, t_i) in enumerate (grow_time.items()) if crop_ in F_p \n",
        "                                  for r in range (t_i+1) ) <= 1     \n",
        "                                )\n",
        "            \n",
        "  # Constraint 3: two crops from the same family cannot be planted at the same time in adjacent plots\n",
        "  for u,v in _neighbor_pairs:\n",
        "    for j in range(time_units):\n",
        "      for p in crop_families.values(): \n",
        "        cqm.add_constraint(quicksum \n",
        "                                ((x[u-1][j-r][i] + x[v-1][j-r][i])\n",
        "                                    for (_, F_p) in enumerate(p)\n",
        "                                    for i, (crop_, t_i) in enumerate (grow_time.items()) if crop_ in F_p \n",
        "                                    for r in range (t_i) ) <= 1        \n",
        "                                  )\n",
        "          \n",
        "  return cqm"
      ],
      "metadata": {
        "id": "UM1X8MyABGBQ"
      },
      "execution_count": 88,
      "outputs": []
    },
    {
      "cell_type": "code",
      "source": [
        "def solve(cqm=cqm, time_limit=10):\n",
        "\n",
        "\n",
        "  sampler = LeapHybridCQMSampler()\n",
        "  print(\"Submitting CQM to solver {}.\".format(sampler.solver.name))\n",
        "  sampleset = sampler.sample_cqm(cqm, label='Crop Rotation', time_limit=10)\n",
        "  return sampleset"
      ],
      "metadata": {
        "id": "nmHe9hTPkSYR"
      },
      "execution_count": 89,
      "outputs": []
    },
    {
      "cell_type": "code",
      "source": [
        "def parse_solution(sampleset):\n",
        "\n",
        "  feasible_sampleset = sampleset.filter(lambda row: row.is_feasible)\n",
        "  print(\"\\nProcessing sampleset returned...\")\n",
        "  best = feasible_sampleset.first\n",
        "  selected_item_indices = [key for key, val in best.sample.items() if val==1.0]\n",
        "  solution = defaultdict(list)\n",
        "\n",
        "  for item in selected_item_indices:\n",
        "    crop_index = item.find('Time')\n",
        "    time_index = item.find('Plot')\n",
        "    crop = int(item[4:crop_index])\n",
        "    for i, key in enumerate (crops):\n",
        "      if i == crop:\n",
        "        crop = key \n",
        "        \n",
        "    solution[(int(item[time_index+4:])+1, \n",
        "              int(item[crop_index+4:time_index]))\n",
        "              ].append(crop)\n",
        "\n",
        "  return solution\n"
      ],
      "metadata": {
        "id": "Db8mxuA0jDCM"
      },
      "execution_count": 90,
      "outputs": []
    },
    {
      "cell_type": "code",
      "source": [
        "def print_solution(solution):\n",
        "\n",
        "  labels = set()  # keep track of labels so legend won't have duplicates.\n",
        "  width = 1\n",
        "  max_x = time_units\n",
        "  fig, ax = plt.subplots()\n",
        "\n",
        "  fig.set_size_inches(18.5, 10.5, forward=True)\n",
        "\n",
        "  for _, ((plot, period), crop) in enumerate(solution.items()):\n",
        "    \n",
        "    \n",
        "    xs = list(range(period, period + grow_time[crop[0]]))\n",
        "    ys = [1] * len(xs)\n",
        "    color = crop_colors[crop[0]]\n",
        "    bottom = [plot] * len(xs)\n",
        "    label = crop[0] if crop[0] not in labels else None\n",
        "    labels.add(crop[0])\n",
        "    ax.bar(xs, ys, width, bottom=bottom, color=color,\n",
        "                            label=label, align='edge')\n",
        "  period_labels = [1 + (x % time_units) for x in range(max_x + 1)]\n",
        "    \n",
        "  plt.title('Crop Rotation Demo')\n",
        "  ax.set_xlabel('Period')\n",
        "  ax.set_ylabel('Plot')\n",
        "  ax.set_xticks(list(range(1, max_x + 2)))\n",
        "  ax.set_xticklabels(period_labels)\n",
        "  ax.set_yticks(list(range(1, len(plot_adjacency) + 1)))\n",
        "  ax.set_yticklabels(list(plot_adjacency.keys()))\n",
        "  period_divisor = max_x // 4\n",
        "\n",
        "\n",
        "  # place legend to right of chart.\n",
        "  box = ax.get_position()\n",
        "  ax.set_position([box.x0, box.y0, box.width * 0.7, box.height])\n",
        "  ax.legend(loc='upper center', bbox_to_anchor=(1.3, 1), shadow=True)\n",
        "\n",
        "  # show grid lines.\n",
        "  if period_divisor:\n",
        "      plt.grid(axis='x', which='both')\n",
        "  else:\n",
        "      plt.grid(axis='x')\n",
        "  plt.grid(axis='y')\n",
        "  plt.draw()\n",
        "\n",
        "  utilization = 0\n",
        "  for _, ((plot, period), crop) in enumerate(solution.items()):\n",
        "    utilization += grow_time[crop[0]]\n",
        "  utilization = utilization / (len(plot_adjacency) * time_units)\n",
        "  \n",
        "  #resume results\n",
        "  print(f'Solution energy: {-sampleset.first.energy}')\n",
        "  print(f'Plot utilization: {100 * utilization:.1f} %')"
      ],
      "metadata": {
        "id": "MW5Rm3cGkEaI"
      },
      "execution_count": 91,
      "outputs": []
    },
    {
      "cell_type": "code",
      "source": [
        "# Build a variable for each plot for each time and for each crop\n",
        "\n",
        "x = [[[Binary('Crop{}Time{}Plot{}'.format(i, j, k))\n",
        "                  for i in range(len(crops))]\n",
        "                  for j in range(1, time_units + 1)] \n",
        "                  for k in range(len(plot_adjacency))]\n",
        "\n",
        "# Initialize CQM\n",
        "cqm = build_cqm()\n",
        "\n",
        "# Instantiate the sampler\n",
        "sampleset = solve(cqm)\n",
        "\n",
        "# Parse solution\n",
        "solution = parse_solution(sampleset)\n",
        "\n",
        "#Print solution in a humam readable diagram\n",
        "print_solution(solution)\n"
      ],
      "metadata": {
        "colab": {
          "base_uri": "https://localhost:8080/",
          "height": 770
        },
        "id": "8wa4n95Jk9lG",
        "outputId": "90ff26a6-5067-4125-d41e-03b2c5d17d21"
      },
      "execution_count": 92,
      "outputs": [
        {
          "output_type": "stream",
          "name": "stdout",
          "text": [
            "\n",
            "Building a CQM for 4 plots spanning 24 months .\n",
            "Submitting CQM to solver hybrid_constrained_quadratic_model_version1.\n",
            "\n",
            "Processing sampleset returned...\n",
            "Solution energy: 79.0\n",
            "Plot utilization: 82.3 %\n"
          ]
        },
        {
          "output_type": "display_data",
          "data": {
            "text/plain": [
              "<Figure size 1332x756 with 1 Axes>"
            ],
            "image/png": "[encoded data removed]"
          },
          "metadata": {
            "needs_background": "light"
          }
        }
      ]
    },
    {
      "cell_type": "code",
      "source": [
        "solution"
      ],
      "metadata": {
        "colab": {
          "base_uri": "https://localhost:8080/"
        },
        "id": "Z4PTQxVsl9bp",
        "outputId": "6c6d7ecc-f877-43b2-d9a2-db77ec27b5b3"
      },
      "execution_count": 93,
      "outputs": [
        {
          "output_type": "execute_result",
          "data": {
            "text/plain": [
              "defaultdict(list,\n",
              "            {(1, 12): ['Corn'],\n",
              "             (3, 12): ['Corn'],\n",
              "             (2, 17): ['Late Kale'],\n",
              "             (4, 17): ['Late Kale'],\n",
              "             (2, 3): ['Turnip'],\n",
              "             (4, 3): ['Turnip'],\n",
              "             (2, 7): ['Early Carrot'],\n",
              "             (1, 16): ['Late Carrot'],\n",
              "             (3, 17): ['Late Carrot'],\n",
              "             (1, 2): ['Garlic'],\n",
              "             (3, 2): ['Garlic'],\n",
              "             (4, 10): ['Sunflower'],\n",
              "             (1, 20): ['Peas'],\n",
              "             (2, 11): ['Beans'],\n",
              "             (4, 7): ['Early Sugar beet']})"
            ]
          },
          "metadata": {},
          "execution_count": 93
        }
      ]
    }
  ]
}