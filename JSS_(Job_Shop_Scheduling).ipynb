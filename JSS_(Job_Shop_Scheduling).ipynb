{
  "nbformat": 4,
  "nbformat_minor": 0,
  "metadata": {
    "colab": {
      "name": "JSS (Job Shop Scheduling).ipynb",
      "provenance": [],
      "collapsed_sections": [],
      "authorship_tag": "ABX9TyN2e6AWCgXDjJp84tHEmmD/",
      "include_colab_link": true
    },
    "kernelspec": {
      "name": "python3",
      "display_name": "Python 3"
    },
    "language_info": {
      "name": "python"
    }
  },
  "cells": [
    {
      "cell_type": "markdown",
      "metadata": {
        "id": "view-in-github",
        "colab_type": "text"
      },
      "source": [
        "<a href=\"https://colab.research.google.com/github/bruno-raffa/Quantum-exercises/blob/main/JSS_(Job_Shop_Scheduling).ipynb\" target=\"_parent\"><img src=\"https://colab.research.google.com/assets/colab-badge.svg\" alt=\"Open In Colab\"/></a>"
      ]
    },
    {
      "cell_type": "markdown",
      "source": [
        "# This notebook is a small readaptation of the so called Job Scheduling Problem (JSS). [Dwave-JSS](https://github.com/dwave-examples/job-shop-scheduling-cqm)"
      ],
      "metadata": {
        "id": "TCdQ_3FyR6P9"
      }
    },
    {
      "cell_type": "code",
      "execution_count": null,
      "metadata": {
        "id": "GgjW2HUeA4XX"
      },
      "outputs": [],
      "source": [
        "! pip install dwave-ocean-sdk\n",
        "! dwave setup"
      ]
    },
    {
      "cell_type": "code",
      "source": [
        "import matplotlib\n",
        "import numpy as np\n",
        "from dimod import ConstrainedQuadraticModel, BinaryQuadraticModel, QuadraticModel, Binary, quicksum, Integer\n",
        "\n",
        "\n",
        "from dwave.system import LeapHybridCQMSampler\n",
        "import pandas as pd\n",
        "import urllib.request\n",
        "from collections import defaultdict\n",
        "\n",
        "try:\n",
        "    import matplotlib.pyplot as plt\n",
        "except ImportError:\n",
        "    matplotlib.use(\"agg\")"
      ],
      "metadata": {
        "id": "J4_eOh3HA_UP"
      },
      "execution_count": 2,
      "outputs": []
    },
    {
      "cell_type": "code",
      "source": [
        "def read_scenario(file_name):\n",
        "    \"\"\"A method that reads input instance file\n",
        "    Args:\n",
        "        instance_path:  path to the job shop instance file\n",
        "    Returns:\n",
        "        Job_dict: dictionary containing jobs as keys and a list of tuple of\n",
        "                machines and their processing time as values.\n",
        "    \"\"\"\n",
        "    job_dict = defaultdict(list)\n",
        "    lines = urllib.request.urlopen(file_name)\n",
        "    for i, line in enumerate(lines):\n",
        "      info = line.decode('utf-8')\n",
        "      if i == 0:\n",
        "        num_jobs = int(line.split()[-1])\n",
        "      elif i == 1:\n",
        "          num_machines = int(line.split()[-1])\n",
        "      elif 2 <= i <= 4:\n",
        "          continue\n",
        "      else:\n",
        "        job_task = list(map(int, line.split()))\n",
        "        job_dict[i - 5] = [x for x in\n",
        "                            zip(job_task[1::2],  # machines\n",
        "                                job_task[2::2]  # processing duration\n",
        "                                )]\n",
        "    return job_dict    "
      ],
      "metadata": {
        "id": "PSfDTVdbA_Yf"
      },
      "execution_count": 3,
      "outputs": []
    },
    {
      "cell_type": "code",
      "source": [
        "max_makespan = 0\n",
        "jobtask_duration = {}\n",
        "jobtask_in_machine = {}\n",
        "jobmachine_executes_task = {}"
      ],
      "metadata": {
        "id": "CauR8K6nDB8D"
      },
      "execution_count": 4,
      "outputs": []
    },
    {
      "cell_type": "code",
      "source": [
        "filename = 'https://raw.githubusercontent.com/dwave-examples/job-shop-scheduling-cqm/main/input/instance5_8.txt'\n",
        "jobs = read_scenario(filename)"
      ],
      "metadata": {
        "id": "zK2dptrsA_bm"
      },
      "execution_count": 5,
      "outputs": []
    },
    {
      "cell_type": "code",
      "source": [
        "for j, val in jobs.items():\n",
        "  for i, (machine, duration) in enumerate(val):\n",
        "    jobtask_in_machine[(j, i)] = machine\n",
        "    jobtask_duration[(j, i)] = duration\n",
        "    jobmachine_executes_task[(j, machine)] = i"
      ],
      "metadata": {
        "id": "Z6ZgRSCMBKsI"
      },
      "execution_count": 6,
      "outputs": []
    },
    {
      "cell_type": "code",
      "source": [
        "num_jobs = len(jobs)\n",
        "num_machines = len(jobs[0])\n",
        "# Calculate a trivial upper bound for make span\n",
        "max_makespan = sum(jobtask_duration[(j, i)]\n",
        "                        for j in range(num_jobs) for i in\n",
        "                        range(num_machines))"
      ],
      "metadata": {
        "id": "JMH0H-sjEGuC"
      },
      "execution_count": 7,
      "outputs": []
    },
    {
      "cell_type": "code",
      "source": [
        "x = {}\n",
        "y = {}\n",
        "makespan = {}\n",
        "best_sample = {}\n",
        "solution = {}\n",
        "completion_time = 0"
      ],
      "metadata": {
        "id": "LHbZzAVxE5lA"
      },
      "execution_count": 8,
      "outputs": []
    },
    {
      "cell_type": "code",
      "source": [
        "# Define make span as an integer variable\n",
        "makespan = Integer(\"makespan\", lower_bound=0,\n",
        "                               upper_bound=max_makespan)\n",
        "\n",
        "# Define integer variable for start time of using machine i for job j\n",
        "x = {\n",
        "    (j, i): Integer('x{}_{}'.format(j, i), lower_bound=0,\n",
        "                    upper_bound=max_makespan)\n",
        "    for j in range(num_jobs) for i in range(num_machines)}\n",
        "\n",
        " # Add binary variable which equals to 1 if job j precedes job k on machine i\n",
        "y = {(j, k, i): Binary('y{}_{}_{}'.format(j, k, i))\n",
        "                  for j in range(num_jobs)\n",
        "                  for k in range(num_jobs) for i in\n",
        "                  range(num_machines)}"
      ],
      "metadata": {
        "id": "Cim2DD1OHVYq"
      },
      "execution_count": 9,
      "outputs": []
    },
    {
      "cell_type": "code",
      "source": [
        "cqm = ConstrainedQuadraticModel()\n",
        "cqm.set_objective(makespan)\n",
        "\n",
        "#  Constraint 1 : Ensures that the make span is at least the largest completion time of\n",
        "        #the last operation of all jobs.\n",
        "for j in range(num_jobs):\n",
        "  last_machine = jobtask_in_machine[(j, num_machines - 1)]\n",
        "  cqm.add_constraint(\n",
        "      makespan - x[(j, last_machine)] >=\n",
        "      jobtask_duration[(j, num_machines - 1)],\n",
        "      label='makespan_ctr{}'.format(j))\n",
        "  \n",
        "#   Constraint 2: Precedence constraints ensures that all operations of a job are\n",
        "       #  executed in the given order\n",
        "\n",
        "for j in range(num_jobs):  # job\n",
        "  for t in range(1, num_machines):  # tasks\n",
        "      machine_curr = jobtask_in_machine[(j, t)]\n",
        "      machine_prev = jobtask_in_machine[(j, t - 1)]\n",
        "      cqm.add_constraint(x[(j, machine_curr)] -\n",
        "            x[(j, machine_prev)]>= jobtask_duration[(j, t - 1)],\n",
        "                              label='pj{}_m{}'.format(j, t)\n",
        "                              )\n",
        "      \n",
        "\n",
        "#  Constraint 3: Add quadratic constraints to ensure that no two jobs can be scheduled\n",
        "         #on the same machine at the same time\n",
        "\n",
        "for j in range(num_jobs):\n",
        "  for k in range(num_jobs):\n",
        "      if j < k:\n",
        "          for i in range(num_machines):\n",
        "              task_k = jobmachine_executes_task[(k, i)]\n",
        "              task_j = jobmachine_executes_task[(j, i)]\n",
        "              if jobtask_duration[k, task_k] > 0 and\\\n",
        "                      jobtask_duration[j, task_j] > 0:\n",
        "                  cqm.add_constraint(\n",
        "                      x[(j, i)] - x[(k, i)] + (\n",
        "                              jobtask_duration[k, task_k] -\n",
        "                              jobtask_duration[\n",
        "                                  j, task_j]) * y[\n",
        "                          (j, k, i)] + 2 * y[(j, k, i)] * (\n",
        "                              x[(k, i)] - x[(j, i)]) >=\n",
        "                      jobtask_duration[(k, task_k)],\n",
        "                      label='OneJobj{}_j{}_m{}'.format(j, k, i))\n"
      ],
      "metadata": {
        "id": "oQLBxo2_HfDX"
      },
      "execution_count": 10,
      "outputs": []
    },
    {
      "cell_type": "code",
      "source": [
        "sampler = LeapHybridCQMSampler()\n",
        "raw_sampleset = sampler.sample_cqm(cqm)\n",
        "feasible_sampleset = raw_sampleset.filter(lambda d: d.is_feasible)\n",
        "num_feasible = len(feasible_sampleset)\n",
        "if num_feasible > 0:\n",
        "    best_samples = \\\n",
        "        feasible_sampleset.truncate(min(10, num_feasible))\n",
        "else:\n",
        "    warnings.warn(\"Warning: Did not find feasible solution\")\n",
        "    best_samples = raw_sampleset.truncate(10)\n",
        "\n",
        "print(\" \\n\" + \"=\" * 30 + \"BEST SAMPLE SET\" + \"=\" * 30)\n",
        "\n",
        "best_sample = best_samples.first.sample\n",
        "#print(best_sample)\n"
      ],
      "metadata": {
        "colab": {
          "base_uri": "https://localhost:8080/"
        },
        "id": "UH6e8gapHe_X",
        "outputId": "b23eb641-677a-41ec-82e1-8742f8895d9a"
      },
      "execution_count": 20,
      "outputs": [
        {
          "output_type": "stream",
          "name": "stdout",
          "text": [
            " \n",
            "==============================BEST SAMPLE SET==============================\n"
          ]
        }
      ]
    },
    {
      "cell_type": "code",
      "source": [
        "solution = {\n",
        "            (j, i): (jobmachine_executes_task[(j, i)],\n",
        "                     best_sample[x[(j, i)].variables[0]],\n",
        "                     jobtask_duration[(j, jobmachine_executes_task[(j, i)])])\n",
        "            for i in range(num_machines) for j in range(num_jobs)}\n",
        "\n",
        "completion_time = best_sample['makespan']\n",
        "completion_time"
      ],
      "metadata": {
        "id": "LeWH3hTnKMNQ",
        "colab": {
          "base_uri": "https://localhost:8080/"
        },
        "outputId": "9407647c-ac1a-41f5-dea9-8c5d14e5a736"
      },
      "execution_count": 21,
      "outputs": [
        {
          "output_type": "execute_result",
          "data": {
            "text/plain": [
              "72.0"
            ]
          },
          "metadata": {},
          "execution_count": 21
        }
      ]
    },
    {
      "cell_type": "code",
      "source": [
        "def plot_solution(solution: dict) -> tuple:\n",
        "    \"\"\"Prepare Jss solution for plotting\n",
        "    Args:\n",
        "        data: JSS data class\n",
        "        solution: a dictionary of solution\n",
        "        location: path for saving scheduling plot\n",
        "    \"\"\"\n",
        "    job_start_time = defaultdict(list)\n",
        "    processing_time = defaultdict(list)\n",
        "    for j in range(num_jobs):\n",
        "        job_start_time[j] = [solution[(j, i)][1] for i in\n",
        "                             range(num_machines)]\n",
        "        processing_time[j] = [\n",
        "            jobtask_duration[j, jobmachine_executes_task[(j, i)]] for i in\n",
        "            range(num_machines)]\n",
        "    \n",
        "    plot_schedule_core(job_start_time, processing_time)\n",
        "    return job_start_time, processing_time"
      ],
      "metadata": {
        "id": "275b8Kypr9Gk"
      },
      "execution_count": 14,
      "outputs": []
    },
    {
      "cell_type": "code",
      "source": [
        "def plot_schedule_core(job_start_time: dict, processing_time: dict,) -> None:\n",
        "    \"\"\"This function plots job shop problem\n",
        "    Args:\n",
        "        job_start_time: start time of each job on each machine\n",
        "        processing_time: processing duration of each job on each machine\n",
        "        location: path for saving scheduling plot\n",
        "    \"\"\"\n",
        "\n",
        "    sols = np.array(list(job_start_time.values()))\n",
        "    durs = np.array(list(processing_time.values()))\n",
        "    solsT = sols.transpose()\n",
        "    dursT = durs.transpose()\n",
        "    n, m = sols.shape\n",
        "    labels = ['machine ' + str(i) for i in range(m)]\n",
        "    category_names = ['job ' + str(i) for i in range(n)]\n",
        "\n",
        "    category_colors = plt.get_cmap('RdYlGn')(\n",
        "        np.linspace(0.15, 0.85, sols.shape[0]))\n",
        "    fig, ax = plt.subplots()\n",
        "    ax.invert_yaxis()\n",
        "    ax.xaxis.set_visible(True)\n",
        "\n",
        "    for i, (colname, color) in enumerate(zip(category_names, category_colors)):\n",
        "        widths = dursT[:, i]\n",
        "        starts = solsT[:, i]\n",
        "        ax.barh(labels, widths, left=starts, height=.5,\n",
        "                label=colname)\n",
        "        xcenters = starts + widths / 2\n",
        "        r, g, b, _ = color\n",
        "        text_color = 'white'\n",
        "        for y, (x, c) in enumerate(zip(xcenters, widths)):\n",
        "            if c > 0:\n",
        "                ax.text(x, y, str(int(c)), ha='center', va='center',\n",
        "                        color=text_color)\n",
        "    ax.legend(ncol=len(category_names), bbox_to_anchor=(0, 1),\n",
        "              loc='lower left', fontsize='small')\n",
        "\n",
        "    plt.draw()\n",
        "\n"
      ],
      "metadata": {
        "id": "4Y0Ndg8XtX5p"
      },
      "execution_count": 15,
      "outputs": []
    },
    {
      "cell_type": "code",
      "source": [
        "plot_solution(solution)\n"
      ],
      "metadata": {
        "colab": {
          "base_uri": "https://localhost:8080/",
          "height": 493
        },
        "id": "JgEcTBM7tBWM",
        "outputId": "362a8e02-8a24-48b8-fced-9b8ea4879673"
      },
      "execution_count": 18,
      "outputs": [
        {
          "output_type": "execute_result",
          "data": {
            "text/plain": [
              "(defaultdict(list,\n",
              "             {0: [40.0, 48.0, 10.0, 26.0, 19.0, 48.0, 72.0, 58.0],\n",
              "              1: [33.0, 72.0, 19.0, 1.0, 62.0, 52.0, 66.0, 37.0],\n",
              "              2: [61.0, 40.0, 0.0, 71.0, 52.0, 48.0, 73.0, 66.0],\n",
              "              3: [7.0, 26.0, 22.0, 12.0, 68.0, 39.0, 33.0, 3.0],\n",
              "              4: [24.0, 0.0, 43.0, 6.0, 0.0, 12.0, 62.0, 50.0]}),\n",
              " defaultdict(list,\n",
              "             {0: [8, 10, 9, 10, 1, 0, 1, 8],\n",
              "              1: [3, 0, 3, 5, 4, 10, 6, 7],\n",
              "              2: [5, 6, 10, 1, 9, 4, 1, 5],\n",
              "              3: [4, 7, 4, 10, 6, 9, 6, 3],\n",
              "              4: [7, 6, 7, 6, 0, 8, 1, 3]}))"
            ]
          },
          "metadata": {},
          "execution_count": 18
        },
        {
          "output_type": "display_data",
          "data": {
            "text/plain": [
              "<Figure size 432x288 with 1 Axes>"
            ],
            "image/png": "[encoded data removed]"
          },
          "metadata": {
            "needs_background": "light"
          }
        }
      ]
    }
  ]
}