{
  "nbformat": 4,
  "nbformat_minor": 0,
  "metadata": {
    "colab": {
      "name": "EV Charger Positioning.ipynb",
      "provenance": [],
      "collapsed_sections": [],
      "authorship_tag": "ABX9TyPl8aenHAQU0vvgtRRV2UBd",
      "include_colab_link": true
    },
    "kernelspec": {
      "name": "python3",
      "display_name": "Python 3"
    },
    "language_info": {
      "name": "python"
    }
  },
  "cells": [
    {
      "cell_type": "markdown",
      "metadata": {
        "id": "view-in-github",
        "colab_type": "text"
      },
      "source": [
        "<a href=\"https://colab.research.google.com/github/bruno-raffa/Quantum-exercises/blob/main/EV_Charger_Positioning.ipynb\" target=\"_parent\"><img src=\"https://colab.research.google.com/assets/colab-badge.svg\" alt=\"Open In Colab\"/></a>"
      ]
    },
    {
      "cell_type": "markdown",
      "source": [
        "## EV CHARGER POSITIONING"
      ],
      "metadata": {
        "id": "28o99c9KEzWg"
      }
    },
    {
      "cell_type": "markdown",
      "source": [
        "This exercise deals with the D-wave example of a \"EV-charger-placement\". Here a problem's description from D-Wave:\n",
        "\n",
        "Determining optimal locations to build new electric vehicle charging stations is a complex optimization problem. Many factors should be taken into consideration, like existing charger locations, points of interest (POIs), quantity to build, etc.\n",
        "\n",
        "The challenge is coped on D-wave using a BQM. In this notebook instead the problem was solved using a **CQM**. \n",
        "\n",
        "This problem has been considered as a set of 4 independent objectives with binary variables that represent each potential new charging station location."
      ],
      "metadata": {
        "id": "pKDiZKOdFCEO"
      }
    },
    {
      "cell_type": "code",
      "execution_count": null,
      "metadata": {
        "id": "8iiwph0vWJGC"
      },
      "outputs": [],
      "source": [
        "! pip install dwave-ocean-sdk\n",
        "! dwave setup"
      ]
    },
    {
      "cell_type": "code",
      "source": [
        "import matplotlib\n",
        "import networkx as nx\n",
        "import numpy as np\n",
        "from dimod import ConstrainedQuadraticModel, Binary, quicksum, BinaryQuadraticModel, QuadraticModel\n",
        "from dwave.system import LeapHybridCQMSampler\n",
        "import random\n",
        "try:\n",
        "    import matplotlib.pyplot as plt\n",
        "except ImportError:\n",
        "    matplotlib.use(\"agg\")\n",
        "    import matplotlib.pyplot as plt"
      ],
      "metadata": {
        "id": "FtSQEqROWfQ0"
      },
      "execution_count": 70,
      "outputs": []
    },
    {
      "cell_type": "code",
      "source": [
        "def set_up_scenario(w, h, num_poi, num_cs, seed):\n",
        "    \"\"\"Build scenario set up with specified parameters.\n",
        "    \n",
        "    Args:\n",
        "        w (int): Width of grid\n",
        "        h (int): Height of grid\n",
        "        num_poi (int): Number of points of interest\n",
        "        num_cs (int): Number of existing charging stations\n",
        "        seed(in): seed for reproduction\n",
        "    \n",
        "    Returns:\n",
        "        G (networkx graph): Grid graph of size w by h\n",
        "        pois (list of tuples of ints): A fixed set of points of interest\n",
        "        charging_stations (list of tuples of ints): \n",
        "            Set of current charging locations\n",
        "        potential_new_cs_nodes (list of tuples of ints): \n",
        "            Potential new charging locations\n",
        "    \"\"\"\n",
        "\n",
        "    G = nx.grid_2d_graph(w, h)\n",
        "    nodes = list(G.nodes)\n",
        "\n",
        "    random.seed(seed)\n",
        "\n",
        "    # Identify a fixed set of points of interest\n",
        "    pois = random.sample(nodes, k=num_poi)\n",
        "\n",
        "    # Identify a fixed set of current charging locations\n",
        "    charging_stations = random.sample(nodes, k=num_cs)\n",
        "\n",
        "    # Identify potential new charging locations\n",
        "    potential_new_cs_nodes = list(G.nodes() - charging_stations)\n",
        "\n",
        "    return G, pois, charging_stations, potential_new_cs_nodes"
      ],
      "metadata": {
        "id": "4j_u6_xUWfTS"
      },
      "execution_count": 71,
      "outputs": []
    },
    {
      "cell_type": "code",
      "source": [
        "def distance(a, b):\n",
        "    return (a[0]**2 - 2*a[0]*b[0] + b[0]**2) + (a[1]**2 - 2*a[1]*b[1] + b[1]**2)"
      ],
      "metadata": {
        "id": "OyccfzTyWfVn"
      },
      "execution_count": 72,
      "outputs": []
    },
    {
      "cell_type": "code",
      "source": [
        "def build_cqm(potential_new_cs_nodes, num_poi, pois, num_cs, charging_stations, num_new_cs):\n",
        "    \"\"\"Build bqm that models our problem scenario for the hybrid sampler. \n",
        "    Args:\n",
        "        potential_new_cs_nodes (list of tuples of ints):\n",
        "            Potential new charging locations\n",
        "        num_poi (int): Number of points of interest\n",
        "        pois (list of tuples of ints): A fixed set of points of interest\n",
        "        num_cs (int): Number of existing charging stations\n",
        "        charging_stations (list of tuples of ints): \n",
        "            Set of current charging locations\n",
        "        num_new_cs (int): Number of new charging stations desired\n",
        "    \n",
        "    Returns:\n",
        "        cqm_np (BinaryQuadraticModel): QUBO model for the input scenario\n",
        "    \"\"\"\n",
        "\n",
        "    \n",
        "    # Tunable parameters\n",
        "    obj1_priority = 1\n",
        "    obj2_priority = 0.7\n",
        "    obj3_priority = 0.5\n",
        "\n",
        "    #Instantiate the models\n",
        "    cqm = ConstrainedQuadraticModel()\n",
        "    obj1 = BinaryQuadraticModel(vartype='BINARY')\n",
        "    obj2 = BinaryQuadraticModel(vartype='BINARY')\n",
        "    obj3 = BinaryQuadraticModel(vartype='BINARY')\n",
        "    constraint = QuadraticModel()\n",
        "    quadratic_terms = {}\n",
        "\n",
        "  \n",
        "    for i in range(len(potential_new_cs_nodes)):\n",
        "\n",
        "      # Minimize average distance to POIs (ob1)\n",
        "      cand_loc = potential_new_cs_nodes[i]\n",
        "      avg_dist1 = sum(distance(cand_loc, loc) for loc in pois) / num_poi\n",
        "      obj1.add_variable(i, avg_dist1)\n",
        "\n",
        "      #Maximize distance to existing chargers (obj2)\n",
        "      avg_dist2 = -sum(distance(cand_loc, loc)\n",
        "                            for loc in charging_stations) / num_cs\n",
        "      obj2.add_variable(i, avg_dist2)\n",
        "      \n",
        "      #Maximize distance to other new charging locations (obj3)\n",
        "      for j in range(i+1, len(potential_new_cs_nodes)):\n",
        "        ai = potential_new_cs_nodes[i]\n",
        "        aj = potential_new_cs_nodes[j]\n",
        "        dist = -distance(ai, aj)\n",
        "        quadratic_terms[(i,j)] = dist\n",
        "      obj3.add_quadratic_from(quadratic_terms)\n",
        "\n",
        "      #Choose exactly num_new_cs new charging locations\n",
        "      constraint.add_variable('BINARY', i)\n",
        "      constraint.set_linear(i, 1)\n",
        "\n",
        "    #Set the objective\n",
        "    cqm.set_objective(obj1_priority * obj1 + obj2_priority * obj2 + obj3_priority * obj3)\n",
        "\n",
        "    #Constraint : Choose exactly num_new_cs new charging locations\n",
        "    cqm.add_constraint(constraint == num_new_cs, label='new charging locations')         \n",
        "    return cqm\n",
        "   "
      ],
      "metadata": {
        "id": "4tO3PJPpWfYU"
      },
      "execution_count": 87,
      "outputs": []
    },
    {
      "cell_type": "code",
      "source": [
        "def printout_solution(pois, num_poi, charging_stations, num_cs, new_charging_nodes, num_new_cs):\n",
        "    \"\"\"Print solution statistics to command line.\n",
        "    \n",
        "    Args:\n",
        "        pois (list of tuples of ints): A fixed set of points of interest\n",
        "        num_poi (int): Number of points of interest\n",
        "        charging_stations (list of tuples of ints): \n",
        "            A fixed set of current charging locations\n",
        "        num_cs (int): Number of existing charging stations\n",
        "        new_charging_nodes (list of tuples of ints): \n",
        "            Locations of new charging stations\n",
        "        num_new_cs (int): Number of new charging stations desired\n",
        "    \n",
        "    Returns:\n",
        "        None.\n",
        "    \"\"\"\n",
        "\n",
        "    print(\"\\nSolution returned: \\n------------------\")\n",
        "\n",
        "    print(\"\\nNew charging locations:\\t\\t\\t\\t\", new_charging_nodes)\n",
        "\n",
        "    if num_poi > 0:\n",
        "        poi_avg_dist = [0] * len(new_charging_nodes)\n",
        "        for loc in pois:\n",
        "            for i, new in enumerate(new_charging_nodes):\n",
        "                poi_avg_dist[i] += sum(abs(a - b) for a, b in zip(new, loc)) / num_poi\n",
        "        print(\"Average distance to POIs:\\t\\t\\t\", poi_avg_dist)\n",
        "\n",
        "    if num_cs > 0:\n",
        "        old_cs_avg_dist = [sum(abs(a - b) for a, b in zip(new, loc) for loc in charging_stations) / num_cs for new in new_charging_nodes]\n",
        "        print(\"Average distance to old charging stations:\\t\", old_cs_avg_dist)\n",
        "\n",
        "    if num_new_cs > 1:\n",
        "        new_cs_dist = 0\n",
        "        for i in range(num_new_cs):\n",
        "            for j in range(i+1, num_new_cs):\n",
        "                new_cs_dist += abs(new_charging_nodes[i][0]-new_charging_nodes[j][0])+abs(new_charging_nodes[i][1]-new_charging_nodes[j][1])\n",
        "        print(\"Distance between new chargers:\\t\\t\\t\", new_cs_dist)"
      ],
      "metadata": {
        "id": "2xuBiXo_bvDE"
      },
      "execution_count": 74,
      "outputs": []
    },
    {
      "cell_type": "code",
      "source": [
        "def save_output_image(G, pois, charging_stations, new_charging_nodes):\n",
        "    \"\"\" Create output image of solution scenario.\n",
        "            - Black nodes: available space\n",
        "            - Red nodes: current charger location\n",
        "            - Nodes marked 'P': POI locations\n",
        "            - Blue nodes: new charger locations\n",
        "    Args:\n",
        "        G (networkx graph): Grid graph of size w by h\n",
        "        pois (list of tuples of ints): A fixed set of points of interest\n",
        "        charging_stations (list of tuples of ints): \n",
        "            A fixed set of current charging locations\n",
        "        new_charging_nodes (list of tuples of ints): \n",
        "            Locations of new charging stations\n",
        "    \n",
        "    Returns:\n",
        "        None. Output saved to file \"map.png\".\n",
        "    \"\"\"\n",
        "\n",
        "    fig, (ax1, ax2) = plt.subplots(1, 2)\n",
        "    fig.suptitle('New EV Charger Locations')\n",
        "    pos = {x: [x[0],x[1]] for x in G.nodes()}\n",
        "\n",
        "    # Locate POIs in map\n",
        "    poi_graph = G.subgraph(pois)\n",
        "    poi_labels = {x: 'P' for x in poi_graph.nodes()}\n",
        "\n",
        "    # Locate old charging stations in map\n",
        "    cs_graph = G.subgraph(charging_stations)\n",
        "\n",
        "    # Locate old charging stations at POIs in map\n",
        "    poi_cs_list = set(pois) - (set(pois)-set(charging_stations))\n",
        "    poi_cs_graph = G.subgraph(poi_cs_list)\n",
        "    poi_cs_labels = {x: 'P' for x in poi_graph.nodes()}\n",
        "\n",
        "    # Draw old map (left image)\n",
        "    nx.draw_networkx(G, ax=ax1, pos=pos, with_labels=False, node_color='k', font_color='w')\n",
        "    nx.draw_networkx(poi_graph, ax=ax1, pos=pos, with_labels=True,\n",
        "                        labels=poi_labels, node_color='k', font_color='w')\n",
        "    nx.draw_networkx(cs_graph, ax=ax1, pos=pos, with_labels=False, node_color='r',\n",
        "                        font_color='k')\n",
        "    nx.draw_networkx(poi_cs_graph, ax=ax1, pos=pos, with_labels=True,\n",
        "                        labels=poi_cs_labels, node_color='r', font_color='w')\n",
        "\n",
        "    # Draw new map (right image)\n",
        "    new_cs_graph = G.subgraph(new_charging_nodes)\n",
        "    nx.draw_networkx(G, ax=ax2, pos=pos, with_labels=False, node_color='k',\n",
        "                        font_color='w')\n",
        "    nx.draw_networkx(poi_graph, ax=ax2, pos=pos, with_labels=True,\n",
        "                        labels=poi_labels,node_color='k', font_color='w')\n",
        "    nx.draw_networkx(cs_graph, ax=ax2, pos=pos, with_labels=False, node_color='r',\n",
        "                        font_color='k')\n",
        "    nx.draw_networkx(poi_cs_graph, ax=ax2, pos=pos, with_labels=True,\n",
        "                        labels=poi_cs_labels,  node_color='r', font_color='w')\n",
        "    nx.draw_networkx(new_cs_graph, ax=ax2, pos=pos, with_labels=False,\n",
        "                        node_color='#00b4d9', font_color='w')\n"
      ],
      "metadata": {
        "id": "Y7ULe80Nb_lu"
      },
      "execution_count": 75,
      "outputs": []
    },
    {
      "cell_type": "code",
      "source": [
        "#Set problem parameters\n",
        "w = 15 \n",
        "h = 15\n",
        "num_poi = 3 \n",
        "num_cs = 4\n",
        "num_new_cs = 2\n",
        "seed = 14"
      ],
      "metadata": {
        "id": "Dev-sFwcYB6v"
      },
      "execution_count": 80,
      "outputs": []
    },
    {
      "cell_type": "code",
      "source": [
        "# Build large grid graph for city\n",
        "G, pois, charging_stations, potential_new_cs_nodes = set_up_scenario(w, h, num_poi, num_cs, seed)"
      ],
      "metadata": {
        "id": "7dMPsGR7Xy8Z"
      },
      "execution_count": 81,
      "outputs": []
    },
    {
      "cell_type": "code",
      "source": [
        "# Build CQM\n",
        "cqm = build_cqm(potential_new_cs_nodes, num_poi, pois, num_cs, charging_stations, num_new_cs)\n",
        "\n",
        "# Run CQM on HSS\n",
        "sampler = LeapHybridCQMSampler()\n",
        "print(\"Submitting CQM to solver {}.\".format(sampler.solver.name))\n",
        "\n",
        "# Sample from the model\n",
        "sampleset = sampler.sample_cqm(cqm, label='EV-charger')\n",
        "feasible_sampleset = sampleset.filter(lambda row: row.is_feasible)\n",
        "if not len(feasible_sampleset):\n",
        "    raise ValueError(\"No feasible solution found\")\n",
        "\n",
        "# Get the lowest feasible energy solution and store it the solution variable\n",
        "best = feasible_sampleset.first\n",
        "new_charging_nodes = [potential_new_cs_nodes[key] for key, val in best.sample.items() if val==1.0]\n",
        "\n",
        "# Print results to commnand-line for user\n",
        "printout_solution(pois, num_poi, charging_stations, num_cs, new_charging_nodes, num_new_cs)\n",
        "\n",
        "print('------------------------------------------')\n",
        "# Create scenario output image\n",
        "save_output_image(G, pois, charging_stations, new_charging_nodes)"
      ],
      "metadata": {
        "colab": {
          "base_uri": "https://localhost:8080/",
          "height": 451
        },
        "id": "6Yt9gkKlXy_A",
        "outputId": "c1d0a26d-405b-4d70-ac3a-b9457bd0a14f"
      },
      "execution_count": 86,
      "outputs": [
        {
          "output_type": "stream",
          "name": "stdout",
          "text": [
            "Submitting CQM to solver hybrid_constrained_quadratic_model_version1.\n",
            "\n",
            "Solution returned: \n",
            "------------------\n",
            "\n",
            "New charging locations:\t\t\t\t [(14, 1), (0, 14)]\n",
            "Average distance to POIs:\t\t\t [16.666666666666668, 10.333333333333334]\n",
            "Average distance to old charging stations:\t [16.0, 11.0]\n",
            "Distance between new chargers:\t\t\t 27\n",
            "------------------------------------------\n"
          ]
        },
        {
          "output_type": "display_data",
          "data": {
            "text/plain": [
              "<Figure size 432x288 with 2 Axes>"
            ],
            "image/png": "[encoded data removed]"
          },
          "metadata": {}
        }
      ]
    },
    {
      "cell_type": "code",
      "source": [
        ""
      ],
      "metadata": {
        "id": "RQ4kBMTibp8K"
      },
      "execution_count": 79,
      "outputs": []
    }
  ]
}